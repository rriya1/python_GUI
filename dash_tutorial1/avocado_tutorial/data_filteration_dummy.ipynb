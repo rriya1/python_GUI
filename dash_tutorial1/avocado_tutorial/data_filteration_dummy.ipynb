{
 "cells": [
  {
   "cell_type": "code",
   "execution_count": 22,
   "id": "1a051011",
   "metadata": {},
   "outputs": [],
   "source": [
    "import pandas as pd\n",
    "from dash import Dash,html,dcc\n",
    "import numpy as np"
   ]
  },
  {
   "cell_type": "code",
   "execution_count": 3,
   "id": "6b8de770",
   "metadata": {},
   "outputs": [
    {
     "data": {
      "text/html": [
       "<div>\n",
       "<style scoped>\n",
       "    .dataframe tbody tr th:only-of-type {\n",
       "        vertical-align: middle;\n",
       "    }\n",
       "\n",
       "    .dataframe tbody tr th {\n",
       "        vertical-align: top;\n",
       "    }\n",
       "\n",
       "    .dataframe thead th {\n",
       "        text-align: right;\n",
       "    }\n",
       "</style>\n",
       "<table border=\"1\" class=\"dataframe\">\n",
       "  <thead>\n",
       "    <tr style=\"text-align: right;\">\n",
       "      <th></th>\n",
       "      <th>Unnamed: 0</th>\n",
       "      <th>Date</th>\n",
       "      <th>AveragePrice</th>\n",
       "      <th>Total Volume</th>\n",
       "      <th>4046</th>\n",
       "      <th>4225</th>\n",
       "      <th>4770</th>\n",
       "      <th>Total Bags</th>\n",
       "      <th>Small Bags</th>\n",
       "      <th>Large Bags</th>\n",
       "      <th>XLarge Bags</th>\n",
       "      <th>type</th>\n",
       "      <th>year</th>\n",
       "      <th>region</th>\n",
       "    </tr>\n",
       "  </thead>\n",
       "  <tbody>\n",
       "    <tr>\n",
       "      <th>0</th>\n",
       "      <td>0</td>\n",
       "      <td>2015-12-27</td>\n",
       "      <td>1.33</td>\n",
       "      <td>64236.62</td>\n",
       "      <td>1036.74</td>\n",
       "      <td>54454.85</td>\n",
       "      <td>48.16</td>\n",
       "      <td>8696.87</td>\n",
       "      <td>8603.62</td>\n",
       "      <td>93.25</td>\n",
       "      <td>0.0</td>\n",
       "      <td>conventional</td>\n",
       "      <td>2015</td>\n",
       "      <td>Albany</td>\n",
       "    </tr>\n",
       "    <tr>\n",
       "      <th>1</th>\n",
       "      <td>1</td>\n",
       "      <td>2015-12-20</td>\n",
       "      <td>1.35</td>\n",
       "      <td>54876.98</td>\n",
       "      <td>674.28</td>\n",
       "      <td>44638.81</td>\n",
       "      <td>58.33</td>\n",
       "      <td>9505.56</td>\n",
       "      <td>9408.07</td>\n",
       "      <td>97.49</td>\n",
       "      <td>0.0</td>\n",
       "      <td>conventional</td>\n",
       "      <td>2015</td>\n",
       "      <td>Albany</td>\n",
       "    </tr>\n",
       "    <tr>\n",
       "      <th>2</th>\n",
       "      <td>2</td>\n",
       "      <td>2015-12-13</td>\n",
       "      <td>0.93</td>\n",
       "      <td>118220.22</td>\n",
       "      <td>794.70</td>\n",
       "      <td>109149.67</td>\n",
       "      <td>130.50</td>\n",
       "      <td>8145.35</td>\n",
       "      <td>8042.21</td>\n",
       "      <td>103.14</td>\n",
       "      <td>0.0</td>\n",
       "      <td>conventional</td>\n",
       "      <td>2015</td>\n",
       "      <td>Albany</td>\n",
       "    </tr>\n",
       "    <tr>\n",
       "      <th>3</th>\n",
       "      <td>3</td>\n",
       "      <td>2015-12-06</td>\n",
       "      <td>1.08</td>\n",
       "      <td>78992.15</td>\n",
       "      <td>1132.00</td>\n",
       "      <td>71976.41</td>\n",
       "      <td>72.58</td>\n",
       "      <td>5811.16</td>\n",
       "      <td>5677.40</td>\n",
       "      <td>133.76</td>\n",
       "      <td>0.0</td>\n",
       "      <td>conventional</td>\n",
       "      <td>2015</td>\n",
       "      <td>Albany</td>\n",
       "    </tr>\n",
       "    <tr>\n",
       "      <th>4</th>\n",
       "      <td>4</td>\n",
       "      <td>2015-11-29</td>\n",
       "      <td>1.28</td>\n",
       "      <td>51039.60</td>\n",
       "      <td>941.48</td>\n",
       "      <td>43838.39</td>\n",
       "      <td>75.78</td>\n",
       "      <td>6183.95</td>\n",
       "      <td>5986.26</td>\n",
       "      <td>197.69</td>\n",
       "      <td>0.0</td>\n",
       "      <td>conventional</td>\n",
       "      <td>2015</td>\n",
       "      <td>Albany</td>\n",
       "    </tr>\n",
       "    <tr>\n",
       "      <th>...</th>\n",
       "      <td>...</td>\n",
       "      <td>...</td>\n",
       "      <td>...</td>\n",
       "      <td>...</td>\n",
       "      <td>...</td>\n",
       "      <td>...</td>\n",
       "      <td>...</td>\n",
       "      <td>...</td>\n",
       "      <td>...</td>\n",
       "      <td>...</td>\n",
       "      <td>...</td>\n",
       "      <td>...</td>\n",
       "      <td>...</td>\n",
       "      <td>...</td>\n",
       "    </tr>\n",
       "    <tr>\n",
       "      <th>18244</th>\n",
       "      <td>7</td>\n",
       "      <td>2018-02-04</td>\n",
       "      <td>1.63</td>\n",
       "      <td>17074.83</td>\n",
       "      <td>2046.96</td>\n",
       "      <td>1529.20</td>\n",
       "      <td>0.00</td>\n",
       "      <td>13498.67</td>\n",
       "      <td>13066.82</td>\n",
       "      <td>431.85</td>\n",
       "      <td>0.0</td>\n",
       "      <td>organic</td>\n",
       "      <td>2018</td>\n",
       "      <td>WestTexNewMexico</td>\n",
       "    </tr>\n",
       "    <tr>\n",
       "      <th>18245</th>\n",
       "      <td>8</td>\n",
       "      <td>2018-01-28</td>\n",
       "      <td>1.71</td>\n",
       "      <td>13888.04</td>\n",
       "      <td>1191.70</td>\n",
       "      <td>3431.50</td>\n",
       "      <td>0.00</td>\n",
       "      <td>9264.84</td>\n",
       "      <td>8940.04</td>\n",
       "      <td>324.80</td>\n",
       "      <td>0.0</td>\n",
       "      <td>organic</td>\n",
       "      <td>2018</td>\n",
       "      <td>WestTexNewMexico</td>\n",
       "    </tr>\n",
       "    <tr>\n",
       "      <th>18246</th>\n",
       "      <td>9</td>\n",
       "      <td>2018-01-21</td>\n",
       "      <td>1.87</td>\n",
       "      <td>13766.76</td>\n",
       "      <td>1191.92</td>\n",
       "      <td>2452.79</td>\n",
       "      <td>727.94</td>\n",
       "      <td>9394.11</td>\n",
       "      <td>9351.80</td>\n",
       "      <td>42.31</td>\n",
       "      <td>0.0</td>\n",
       "      <td>organic</td>\n",
       "      <td>2018</td>\n",
       "      <td>WestTexNewMexico</td>\n",
       "    </tr>\n",
       "    <tr>\n",
       "      <th>18247</th>\n",
       "      <td>10</td>\n",
       "      <td>2018-01-14</td>\n",
       "      <td>1.93</td>\n",
       "      <td>16205.22</td>\n",
       "      <td>1527.63</td>\n",
       "      <td>2981.04</td>\n",
       "      <td>727.01</td>\n",
       "      <td>10969.54</td>\n",
       "      <td>10919.54</td>\n",
       "      <td>50.00</td>\n",
       "      <td>0.0</td>\n",
       "      <td>organic</td>\n",
       "      <td>2018</td>\n",
       "      <td>WestTexNewMexico</td>\n",
       "    </tr>\n",
       "    <tr>\n",
       "      <th>18248</th>\n",
       "      <td>11</td>\n",
       "      <td>2018-01-07</td>\n",
       "      <td>1.62</td>\n",
       "      <td>17489.58</td>\n",
       "      <td>2894.77</td>\n",
       "      <td>2356.13</td>\n",
       "      <td>224.53</td>\n",
       "      <td>12014.15</td>\n",
       "      <td>11988.14</td>\n",
       "      <td>26.01</td>\n",
       "      <td>0.0</td>\n",
       "      <td>organic</td>\n",
       "      <td>2018</td>\n",
       "      <td>WestTexNewMexico</td>\n",
       "    </tr>\n",
       "  </tbody>\n",
       "</table>\n",
       "<p>18249 rows × 14 columns</p>\n",
       "</div>"
      ],
      "text/plain": [
       "       Unnamed: 0        Date  AveragePrice  Total Volume     4046       4225  \\\n",
       "0               0  2015-12-27          1.33      64236.62  1036.74   54454.85   \n",
       "1               1  2015-12-20          1.35      54876.98   674.28   44638.81   \n",
       "2               2  2015-12-13          0.93     118220.22   794.70  109149.67   \n",
       "3               3  2015-12-06          1.08      78992.15  1132.00   71976.41   \n",
       "4               4  2015-11-29          1.28      51039.60   941.48   43838.39   \n",
       "...           ...         ...           ...           ...      ...        ...   \n",
       "18244           7  2018-02-04          1.63      17074.83  2046.96    1529.20   \n",
       "18245           8  2018-01-28          1.71      13888.04  1191.70    3431.50   \n",
       "18246           9  2018-01-21          1.87      13766.76  1191.92    2452.79   \n",
       "18247          10  2018-01-14          1.93      16205.22  1527.63    2981.04   \n",
       "18248          11  2018-01-07          1.62      17489.58  2894.77    2356.13   \n",
       "\n",
       "         4770  Total Bags  Small Bags  Large Bags  XLarge Bags          type  \\\n",
       "0       48.16     8696.87     8603.62       93.25          0.0  conventional   \n",
       "1       58.33     9505.56     9408.07       97.49          0.0  conventional   \n",
       "2      130.50     8145.35     8042.21      103.14          0.0  conventional   \n",
       "3       72.58     5811.16     5677.40      133.76          0.0  conventional   \n",
       "4       75.78     6183.95     5986.26      197.69          0.0  conventional   \n",
       "...       ...         ...         ...         ...          ...           ...   \n",
       "18244    0.00    13498.67    13066.82      431.85          0.0       organic   \n",
       "18245    0.00     9264.84     8940.04      324.80          0.0       organic   \n",
       "18246  727.94     9394.11     9351.80       42.31          0.0       organic   \n",
       "18247  727.01    10969.54    10919.54       50.00          0.0       organic   \n",
       "18248  224.53    12014.15    11988.14       26.01          0.0       organic   \n",
       "\n",
       "       year            region  \n",
       "0      2015            Albany  \n",
       "1      2015            Albany  \n",
       "2      2015            Albany  \n",
       "3      2015            Albany  \n",
       "4      2015            Albany  \n",
       "...     ...               ...  \n",
       "18244  2018  WestTexNewMexico  \n",
       "18245  2018  WestTexNewMexico  \n",
       "18246  2018  WestTexNewMexico  \n",
       "18247  2018  WestTexNewMexico  \n",
       "18248  2018  WestTexNewMexico  \n",
       "\n",
       "[18249 rows x 14 columns]"
      ]
     },
     "execution_count": 3,
     "metadata": {},
     "output_type": "execute_result"
    }
   ],
   "source": [
    "avocado_df=pd.read_csv(\"avocado.csv\")\n",
    "avocado_df"
   ]
  },
  {
   "cell_type": "code",
   "execution_count": 4,
   "id": "80dcd5e7",
   "metadata": {},
   "outputs": [
    {
     "data": {
      "text/plain": [
       "array(['Albany', 'Atlanta', 'BaltimoreWashington', 'Boise', 'Boston',\n",
       "       'BuffaloRochester', 'California', 'Charlotte', 'Chicago',\n",
       "       'CincinnatiDayton', 'Columbus', 'DallasFtWorth', 'Denver',\n",
       "       'Detroit', 'GrandRapids', 'GreatLakes', 'HarrisburgScranton',\n",
       "       'HartfordSpringfield', 'Houston', 'Indianapolis', 'Jacksonville',\n",
       "       'LasVegas', 'LosAngeles', 'Louisville', 'MiamiFtLauderdale',\n",
       "       'Midsouth', 'Nashville', 'NewOrleansMobile', 'NewYork',\n",
       "       'Northeast', 'NorthernNewEngland', 'Orlando', 'Philadelphia',\n",
       "       'PhoenixTucson', 'Pittsburgh', 'Plains', 'Portland',\n",
       "       'RaleighGreensboro', 'RichmondNorfolk', 'Roanoke', 'Sacramento',\n",
       "       'SanDiego', 'SanFrancisco', 'Seattle', 'SouthCarolina',\n",
       "       'SouthCentral', 'Southeast', 'Spokane', 'StLouis', 'Syracuse',\n",
       "       'Tampa', 'TotalUS', 'West', 'WestTexNewMexico'], dtype=object)"
      ]
     },
     "execution_count": 4,
     "metadata": {},
     "output_type": "execute_result"
    }
   ],
   "source": [
    "regions=avocado_df[\"region\"].sort_values().unique()\n",
    "regions"
   ]
  },
  {
   "cell_type": "code",
   "execution_count": 5,
   "id": "9086af32",
   "metadata": {},
   "outputs": [
    {
     "data": {
      "text/plain": [
       "array(['conventional', 'organic'], dtype=object)"
      ]
     },
     "execution_count": 5,
     "metadata": {},
     "output_type": "execute_result"
    }
   ],
   "source": [
    "avocado_types=avocado_df[\"type\"].sort_values().unique()\n",
    "avocado_types"
   ]
  },
  {
   "cell_type": "code",
   "execution_count": 6,
   "id": "1e3c83aa",
   "metadata": {},
   "outputs": [
    {
     "data": {
      "text/html": [
       "<div>\n",
       "<style scoped>\n",
       "    .dataframe tbody tr th:only-of-type {\n",
       "        vertical-align: middle;\n",
       "    }\n",
       "\n",
       "    .dataframe tbody tr th {\n",
       "        vertical-align: top;\n",
       "    }\n",
       "\n",
       "    .dataframe thead th {\n",
       "        text-align: right;\n",
       "    }\n",
       "</style>\n",
       "<table border=\"1\" class=\"dataframe\">\n",
       "  <thead>\n",
       "    <tr style=\"text-align: right;\">\n",
       "      <th></th>\n",
       "      <th>Unnamed: 0</th>\n",
       "      <th>Date</th>\n",
       "      <th>AveragePrice</th>\n",
       "      <th>Total Volume</th>\n",
       "      <th>4046</th>\n",
       "      <th>4225</th>\n",
       "      <th>4770</th>\n",
       "      <th>Total Bags</th>\n",
       "      <th>Small Bags</th>\n",
       "      <th>Large Bags</th>\n",
       "      <th>XLarge Bags</th>\n",
       "      <th>type</th>\n",
       "      <th>year</th>\n",
       "      <th>region</th>\n",
       "    </tr>\n",
       "  </thead>\n",
       "  <tbody>\n",
       "    <tr>\n",
       "      <th>0</th>\n",
       "      <td>0</td>\n",
       "      <td>2015-12-27</td>\n",
       "      <td>1.33</td>\n",
       "      <td>64236.62</td>\n",
       "      <td>1036.74</td>\n",
       "      <td>54454.85</td>\n",
       "      <td>48.16</td>\n",
       "      <td>8696.87</td>\n",
       "      <td>8603.62</td>\n",
       "      <td>93.25</td>\n",
       "      <td>0.00</td>\n",
       "      <td>conventional</td>\n",
       "      <td>2015</td>\n",
       "      <td>Albany</td>\n",
       "    </tr>\n",
       "    <tr>\n",
       "      <th>1</th>\n",
       "      <td>1</td>\n",
       "      <td>2015-12-20</td>\n",
       "      <td>1.35</td>\n",
       "      <td>54876.98</td>\n",
       "      <td>674.28</td>\n",
       "      <td>44638.81</td>\n",
       "      <td>58.33</td>\n",
       "      <td>9505.56</td>\n",
       "      <td>9408.07</td>\n",
       "      <td>97.49</td>\n",
       "      <td>0.00</td>\n",
       "      <td>conventional</td>\n",
       "      <td>2015</td>\n",
       "      <td>Albany</td>\n",
       "    </tr>\n",
       "    <tr>\n",
       "      <th>2</th>\n",
       "      <td>2</td>\n",
       "      <td>2015-12-13</td>\n",
       "      <td>0.93</td>\n",
       "      <td>118220.22</td>\n",
       "      <td>794.70</td>\n",
       "      <td>109149.67</td>\n",
       "      <td>130.50</td>\n",
       "      <td>8145.35</td>\n",
       "      <td>8042.21</td>\n",
       "      <td>103.14</td>\n",
       "      <td>0.00</td>\n",
       "      <td>conventional</td>\n",
       "      <td>2015</td>\n",
       "      <td>Albany</td>\n",
       "    </tr>\n",
       "    <tr>\n",
       "      <th>3</th>\n",
       "      <td>3</td>\n",
       "      <td>2015-12-06</td>\n",
       "      <td>1.08</td>\n",
       "      <td>78992.15</td>\n",
       "      <td>1132.00</td>\n",
       "      <td>71976.41</td>\n",
       "      <td>72.58</td>\n",
       "      <td>5811.16</td>\n",
       "      <td>5677.40</td>\n",
       "      <td>133.76</td>\n",
       "      <td>0.00</td>\n",
       "      <td>conventional</td>\n",
       "      <td>2015</td>\n",
       "      <td>Albany</td>\n",
       "    </tr>\n",
       "    <tr>\n",
       "      <th>4</th>\n",
       "      <td>4</td>\n",
       "      <td>2015-11-29</td>\n",
       "      <td>1.28</td>\n",
       "      <td>51039.60</td>\n",
       "      <td>941.48</td>\n",
       "      <td>43838.39</td>\n",
       "      <td>75.78</td>\n",
       "      <td>6183.95</td>\n",
       "      <td>5986.26</td>\n",
       "      <td>197.69</td>\n",
       "      <td>0.00</td>\n",
       "      <td>conventional</td>\n",
       "      <td>2015</td>\n",
       "      <td>Albany</td>\n",
       "    </tr>\n",
       "    <tr>\n",
       "      <th>...</th>\n",
       "      <td>...</td>\n",
       "      <td>...</td>\n",
       "      <td>...</td>\n",
       "      <td>...</td>\n",
       "      <td>...</td>\n",
       "      <td>...</td>\n",
       "      <td>...</td>\n",
       "      <td>...</td>\n",
       "      <td>...</td>\n",
       "      <td>...</td>\n",
       "      <td>...</td>\n",
       "      <td>...</td>\n",
       "      <td>...</td>\n",
       "      <td>...</td>\n",
       "    </tr>\n",
       "    <tr>\n",
       "      <th>8485</th>\n",
       "      <td>7</td>\n",
       "      <td>2018-02-04</td>\n",
       "      <td>1.03</td>\n",
       "      <td>216738.47</td>\n",
       "      <td>7625.65</td>\n",
       "      <td>195725.06</td>\n",
       "      <td>143.53</td>\n",
       "      <td>13244.23</td>\n",
       "      <td>10571.60</td>\n",
       "      <td>2422.63</td>\n",
       "      <td>250.00</td>\n",
       "      <td>conventional</td>\n",
       "      <td>2018</td>\n",
       "      <td>Albany</td>\n",
       "    </tr>\n",
       "    <tr>\n",
       "      <th>8486</th>\n",
       "      <td>8</td>\n",
       "      <td>2018-01-28</td>\n",
       "      <td>1.57</td>\n",
       "      <td>93625.03</td>\n",
       "      <td>3101.17</td>\n",
       "      <td>74627.23</td>\n",
       "      <td>55.59</td>\n",
       "      <td>15841.04</td>\n",
       "      <td>11614.79</td>\n",
       "      <td>4159.58</td>\n",
       "      <td>66.67</td>\n",
       "      <td>conventional</td>\n",
       "      <td>2018</td>\n",
       "      <td>Albany</td>\n",
       "    </tr>\n",
       "    <tr>\n",
       "      <th>8487</th>\n",
       "      <td>9</td>\n",
       "      <td>2018-01-21</td>\n",
       "      <td>1.69</td>\n",
       "      <td>135196.35</td>\n",
       "      <td>3133.37</td>\n",
       "      <td>116520.88</td>\n",
       "      <td>88.78</td>\n",
       "      <td>15453.32</td>\n",
       "      <td>10023.79</td>\n",
       "      <td>5429.53</td>\n",
       "      <td>0.00</td>\n",
       "      <td>conventional</td>\n",
       "      <td>2018</td>\n",
       "      <td>Albany</td>\n",
       "    </tr>\n",
       "    <tr>\n",
       "      <th>8488</th>\n",
       "      <td>10</td>\n",
       "      <td>2018-01-14</td>\n",
       "      <td>1.42</td>\n",
       "      <td>95246.38</td>\n",
       "      <td>2897.41</td>\n",
       "      <td>76570.67</td>\n",
       "      <td>44.00</td>\n",
       "      <td>15734.30</td>\n",
       "      <td>10012.80</td>\n",
       "      <td>5721.50</td>\n",
       "      <td>0.00</td>\n",
       "      <td>conventional</td>\n",
       "      <td>2018</td>\n",
       "      <td>Albany</td>\n",
       "    </tr>\n",
       "    <tr>\n",
       "      <th>8489</th>\n",
       "      <td>11</td>\n",
       "      <td>2018-01-07</td>\n",
       "      <td>1.13</td>\n",
       "      <td>98540.22</td>\n",
       "      <td>2940.63</td>\n",
       "      <td>76192.61</td>\n",
       "      <td>42.63</td>\n",
       "      <td>19364.35</td>\n",
       "      <td>8633.09</td>\n",
       "      <td>10707.93</td>\n",
       "      <td>23.33</td>\n",
       "      <td>conventional</td>\n",
       "      <td>2018</td>\n",
       "      <td>Albany</td>\n",
       "    </tr>\n",
       "  </tbody>\n",
       "</table>\n",
       "<p>169 rows × 14 columns</p>\n",
       "</div>"
      ],
      "text/plain": [
       "      Unnamed: 0        Date  AveragePrice  Total Volume     4046       4225  \\\n",
       "0              0  2015-12-27          1.33      64236.62  1036.74   54454.85   \n",
       "1              1  2015-12-20          1.35      54876.98   674.28   44638.81   \n",
       "2              2  2015-12-13          0.93     118220.22   794.70  109149.67   \n",
       "3              3  2015-12-06          1.08      78992.15  1132.00   71976.41   \n",
       "4              4  2015-11-29          1.28      51039.60   941.48   43838.39   \n",
       "...          ...         ...           ...           ...      ...        ...   \n",
       "8485           7  2018-02-04          1.03     216738.47  7625.65  195725.06   \n",
       "8486           8  2018-01-28          1.57      93625.03  3101.17   74627.23   \n",
       "8487           9  2018-01-21          1.69     135196.35  3133.37  116520.88   \n",
       "8488          10  2018-01-14          1.42      95246.38  2897.41   76570.67   \n",
       "8489          11  2018-01-07          1.13      98540.22  2940.63   76192.61   \n",
       "\n",
       "        4770  Total Bags  Small Bags  Large Bags  XLarge Bags          type  \\\n",
       "0      48.16     8696.87     8603.62       93.25         0.00  conventional   \n",
       "1      58.33     9505.56     9408.07       97.49         0.00  conventional   \n",
       "2     130.50     8145.35     8042.21      103.14         0.00  conventional   \n",
       "3      72.58     5811.16     5677.40      133.76         0.00  conventional   \n",
       "4      75.78     6183.95     5986.26      197.69         0.00  conventional   \n",
       "...      ...         ...         ...         ...          ...           ...   \n",
       "8485  143.53    13244.23    10571.60     2422.63       250.00  conventional   \n",
       "8486   55.59    15841.04    11614.79     4159.58        66.67  conventional   \n",
       "8487   88.78    15453.32    10023.79     5429.53         0.00  conventional   \n",
       "8488   44.00    15734.30    10012.80     5721.50         0.00  conventional   \n",
       "8489   42.63    19364.35     8633.09    10707.93        23.33  conventional   \n",
       "\n",
       "      year  region  \n",
       "0     2015  Albany  \n",
       "1     2015  Albany  \n",
       "2     2015  Albany  \n",
       "3     2015  Albany  \n",
       "4     2015  Albany  \n",
       "...    ...     ...  \n",
       "8485  2018  Albany  \n",
       "8486  2018  Albany  \n",
       "8487  2018  Albany  \n",
       "8488  2018  Albany  \n",
       "8489  2018  Albany  \n",
       "\n",
       "[169 rows x 14 columns]"
      ]
     },
     "execution_count": 6,
     "metadata": {},
     "output_type": "execute_result"
    }
   ],
   "source": [
    "#NOTE: while using pandas, we need to use & opertor and not the \"and\" keyword, also the brackets are important\n",
    "avocado_type1=avocado_df[(avocado_df.type=='conventional') & (avocado_df.region=='Albany')]\n",
    "avocado_type1"
   ]
  },
  {
   "cell_type": "code",
   "execution_count": 7,
   "id": "8ab34e1b",
   "metadata": {},
   "outputs": [
    {
     "data": {
      "text/plain": [
       "pandas.core.series.Series"
      ]
     },
     "execution_count": 7,
     "metadata": {},
     "output_type": "execute_result"
    }
   ],
   "source": [
    "type(avocado_df.Date)"
   ]
  },
  {
   "cell_type": "code",
   "execution_count": 8,
   "id": "752b2675",
   "metadata": {},
   "outputs": [
    {
     "data": {
      "text/plain": [
       "pandas.core.frame.DataFrame"
      ]
     },
     "execution_count": 8,
     "metadata": {},
     "output_type": "execute_result"
    }
   ],
   "source": [
    "type(avocado_type1)"
   ]
  },
  {
   "cell_type": "code",
   "execution_count": 9,
   "id": "5143ef6b",
   "metadata": {},
   "outputs": [],
   "source": [
    "#NOTE: without making an independent copy here, a chain indexing copy error will be genrated\n",
    "avocado_type1 = avocado_type1.copy()\n",
    "avocado_type1['Date'] = pd.to_datetime(avocado_type1['Date'])"
   ]
  },
  {
   "cell_type": "code",
   "execution_count": 10,
   "id": "56b96eca",
   "metadata": {},
   "outputs": [
    {
     "data": {
      "text/plain": [
       "dtype('<M8[ns]')"
      ]
     },
     "execution_count": 10,
     "metadata": {},
     "output_type": "execute_result"
    }
   ],
   "source": [
    "avocado_type1['Date'].dtype\n",
    "#sucessfully converted to date time format"
   ]
  },
  {
   "cell_type": "code",
   "execution_count": 11,
   "id": "0740b1de",
   "metadata": {},
   "outputs": [
    {
     "data": {
      "text/html": [
       "<div>\n",
       "<style scoped>\n",
       "    .dataframe tbody tr th:only-of-type {\n",
       "        vertical-align: middle;\n",
       "    }\n",
       "\n",
       "    .dataframe tbody tr th {\n",
       "        vertical-align: top;\n",
       "    }\n",
       "\n",
       "    .dataframe thead th {\n",
       "        text-align: right;\n",
       "    }\n",
       "</style>\n",
       "<table border=\"1\" class=\"dataframe\">\n",
       "  <thead>\n",
       "    <tr style=\"text-align: right;\">\n",
       "      <th></th>\n",
       "      <th>Unnamed: 0</th>\n",
       "      <th>Date</th>\n",
       "      <th>AveragePrice</th>\n",
       "      <th>Total Volume</th>\n",
       "      <th>4046</th>\n",
       "      <th>4225</th>\n",
       "      <th>4770</th>\n",
       "      <th>Total Bags</th>\n",
       "      <th>Small Bags</th>\n",
       "      <th>Large Bags</th>\n",
       "      <th>XLarge Bags</th>\n",
       "      <th>type</th>\n",
       "      <th>year</th>\n",
       "      <th>region</th>\n",
       "    </tr>\n",
       "  </thead>\n",
       "  <tbody>\n",
       "    <tr>\n",
       "      <th>51</th>\n",
       "      <td>51</td>\n",
       "      <td>2015-01-04</td>\n",
       "      <td>1.22</td>\n",
       "      <td>40873.28</td>\n",
       "      <td>2819.50</td>\n",
       "      <td>28287.42</td>\n",
       "      <td>49.90</td>\n",
       "      <td>9716.46</td>\n",
       "      <td>9186.93</td>\n",
       "      <td>529.53</td>\n",
       "      <td>0.00</td>\n",
       "      <td>conventional</td>\n",
       "      <td>2015</td>\n",
       "      <td>Albany</td>\n",
       "    </tr>\n",
       "    <tr>\n",
       "      <th>50</th>\n",
       "      <td>50</td>\n",
       "      <td>2015-01-11</td>\n",
       "      <td>1.24</td>\n",
       "      <td>41195.08</td>\n",
       "      <td>1002.85</td>\n",
       "      <td>31640.34</td>\n",
       "      <td>127.12</td>\n",
       "      <td>8424.77</td>\n",
       "      <td>8036.04</td>\n",
       "      <td>388.73</td>\n",
       "      <td>0.00</td>\n",
       "      <td>conventional</td>\n",
       "      <td>2015</td>\n",
       "      <td>Albany</td>\n",
       "    </tr>\n",
       "    <tr>\n",
       "      <th>49</th>\n",
       "      <td>49</td>\n",
       "      <td>2015-01-18</td>\n",
       "      <td>1.17</td>\n",
       "      <td>44511.28</td>\n",
       "      <td>914.14</td>\n",
       "      <td>31540.32</td>\n",
       "      <td>135.77</td>\n",
       "      <td>11921.05</td>\n",
       "      <td>11651.09</td>\n",
       "      <td>269.96</td>\n",
       "      <td>0.00</td>\n",
       "      <td>conventional</td>\n",
       "      <td>2015</td>\n",
       "      <td>Albany</td>\n",
       "    </tr>\n",
       "    <tr>\n",
       "      <th>48</th>\n",
       "      <td>48</td>\n",
       "      <td>2015-01-25</td>\n",
       "      <td>1.06</td>\n",
       "      <td>45147.50</td>\n",
       "      <td>941.38</td>\n",
       "      <td>33196.16</td>\n",
       "      <td>164.14</td>\n",
       "      <td>10845.82</td>\n",
       "      <td>10103.35</td>\n",
       "      <td>742.47</td>\n",
       "      <td>0.00</td>\n",
       "      <td>conventional</td>\n",
       "      <td>2015</td>\n",
       "      <td>Albany</td>\n",
       "    </tr>\n",
       "    <tr>\n",
       "      <th>47</th>\n",
       "      <td>47</td>\n",
       "      <td>2015-02-01</td>\n",
       "      <td>0.99</td>\n",
       "      <td>70873.60</td>\n",
       "      <td>1353.90</td>\n",
       "      <td>60017.20</td>\n",
       "      <td>179.32</td>\n",
       "      <td>9323.18</td>\n",
       "      <td>9170.82</td>\n",
       "      <td>152.36</td>\n",
       "      <td>0.00</td>\n",
       "      <td>conventional</td>\n",
       "      <td>2015</td>\n",
       "      <td>Albany</td>\n",
       "    </tr>\n",
       "    <tr>\n",
       "      <th>...</th>\n",
       "      <td>...</td>\n",
       "      <td>...</td>\n",
       "      <td>...</td>\n",
       "      <td>...</td>\n",
       "      <td>...</td>\n",
       "      <td>...</td>\n",
       "      <td>...</td>\n",
       "      <td>...</td>\n",
       "      <td>...</td>\n",
       "      <td>...</td>\n",
       "      <td>...</td>\n",
       "      <td>...</td>\n",
       "      <td>...</td>\n",
       "      <td>...</td>\n",
       "    </tr>\n",
       "    <tr>\n",
       "      <th>8482</th>\n",
       "      <td>4</td>\n",
       "      <td>2018-02-25</td>\n",
       "      <td>1.28</td>\n",
       "      <td>104278.89</td>\n",
       "      <td>10368.77</td>\n",
       "      <td>59723.32</td>\n",
       "      <td>48.00</td>\n",
       "      <td>34138.80</td>\n",
       "      <td>30126.31</td>\n",
       "      <td>3702.49</td>\n",
       "      <td>310.00</td>\n",
       "      <td>conventional</td>\n",
       "      <td>2018</td>\n",
       "      <td>Albany</td>\n",
       "    </tr>\n",
       "    <tr>\n",
       "      <th>8481</th>\n",
       "      <td>3</td>\n",
       "      <td>2018-03-04</td>\n",
       "      <td>1.08</td>\n",
       "      <td>139520.60</td>\n",
       "      <td>12002.12</td>\n",
       "      <td>105069.57</td>\n",
       "      <td>95.62</td>\n",
       "      <td>22353.29</td>\n",
       "      <td>16128.51</td>\n",
       "      <td>5941.45</td>\n",
       "      <td>283.33</td>\n",
       "      <td>conventional</td>\n",
       "      <td>2018</td>\n",
       "      <td>Albany</td>\n",
       "    </tr>\n",
       "    <tr>\n",
       "      <th>8480</th>\n",
       "      <td>2</td>\n",
       "      <td>2018-03-11</td>\n",
       "      <td>1.12</td>\n",
       "      <td>144648.75</td>\n",
       "      <td>15823.35</td>\n",
       "      <td>110950.68</td>\n",
       "      <td>70.00</td>\n",
       "      <td>17804.72</td>\n",
       "      <td>14480.52</td>\n",
       "      <td>3033.09</td>\n",
       "      <td>291.11</td>\n",
       "      <td>conventional</td>\n",
       "      <td>2018</td>\n",
       "      <td>Albany</td>\n",
       "    </tr>\n",
       "    <tr>\n",
       "      <th>8479</th>\n",
       "      <td>1</td>\n",
       "      <td>2018-03-18</td>\n",
       "      <td>1.35</td>\n",
       "      <td>105304.65</td>\n",
       "      <td>13234.86</td>\n",
       "      <td>61037.58</td>\n",
       "      <td>55.00</td>\n",
       "      <td>30977.21</td>\n",
       "      <td>26755.90</td>\n",
       "      <td>3721.31</td>\n",
       "      <td>500.00</td>\n",
       "      <td>conventional</td>\n",
       "      <td>2018</td>\n",
       "      <td>Albany</td>\n",
       "    </tr>\n",
       "    <tr>\n",
       "      <th>8478</th>\n",
       "      <td>0</td>\n",
       "      <td>2018-03-25</td>\n",
       "      <td>1.57</td>\n",
       "      <td>149396.50</td>\n",
       "      <td>16361.69</td>\n",
       "      <td>109045.03</td>\n",
       "      <td>65.45</td>\n",
       "      <td>23924.33</td>\n",
       "      <td>19273.80</td>\n",
       "      <td>4270.53</td>\n",
       "      <td>380.00</td>\n",
       "      <td>conventional</td>\n",
       "      <td>2018</td>\n",
       "      <td>Albany</td>\n",
       "    </tr>\n",
       "  </tbody>\n",
       "</table>\n",
       "<p>169 rows × 14 columns</p>\n",
       "</div>"
      ],
      "text/plain": [
       "      Unnamed: 0       Date  AveragePrice  Total Volume      4046       4225  \\\n",
       "51            51 2015-01-04          1.22      40873.28   2819.50   28287.42   \n",
       "50            50 2015-01-11          1.24      41195.08   1002.85   31640.34   \n",
       "49            49 2015-01-18          1.17      44511.28    914.14   31540.32   \n",
       "48            48 2015-01-25          1.06      45147.50    941.38   33196.16   \n",
       "47            47 2015-02-01          0.99      70873.60   1353.90   60017.20   \n",
       "...          ...        ...           ...           ...       ...        ...   \n",
       "8482           4 2018-02-25          1.28     104278.89  10368.77   59723.32   \n",
       "8481           3 2018-03-04          1.08     139520.60  12002.12  105069.57   \n",
       "8480           2 2018-03-11          1.12     144648.75  15823.35  110950.68   \n",
       "8479           1 2018-03-18          1.35     105304.65  13234.86   61037.58   \n",
       "8478           0 2018-03-25          1.57     149396.50  16361.69  109045.03   \n",
       "\n",
       "        4770  Total Bags  Small Bags  Large Bags  XLarge Bags          type  \\\n",
       "51     49.90     9716.46     9186.93      529.53         0.00  conventional   \n",
       "50    127.12     8424.77     8036.04      388.73         0.00  conventional   \n",
       "49    135.77    11921.05    11651.09      269.96         0.00  conventional   \n",
       "48    164.14    10845.82    10103.35      742.47         0.00  conventional   \n",
       "47    179.32     9323.18     9170.82      152.36         0.00  conventional   \n",
       "...      ...         ...         ...         ...          ...           ...   \n",
       "8482   48.00    34138.80    30126.31     3702.49       310.00  conventional   \n",
       "8481   95.62    22353.29    16128.51     5941.45       283.33  conventional   \n",
       "8480   70.00    17804.72    14480.52     3033.09       291.11  conventional   \n",
       "8479   55.00    30977.21    26755.90     3721.31       500.00  conventional   \n",
       "8478   65.45    23924.33    19273.80     4270.53       380.00  conventional   \n",
       "\n",
       "      year  region  \n",
       "51    2015  Albany  \n",
       "50    2015  Albany  \n",
       "49    2015  Albany  \n",
       "48    2015  Albany  \n",
       "47    2015  Albany  \n",
       "...    ...     ...  \n",
       "8482  2018  Albany  \n",
       "8481  2018  Albany  \n",
       "8480  2018  Albany  \n",
       "8479  2018  Albany  \n",
       "8478  2018  Albany  \n",
       "\n",
       "[169 rows x 14 columns]"
      ]
     },
     "execution_count": 11,
     "metadata": {},
     "output_type": "execute_result"
    }
   ],
   "source": [
    "avocado_type11=avocado_type1.sort_values('Date', ascending=True)\n",
    "avocado_type11"
   ]
  },
  {
   "cell_type": "code",
   "execution_count": 13,
   "id": "60068e82",
   "metadata": {},
   "outputs": [
    {
     "data": {
      "text/html": [
       "<div>\n",
       "<style scoped>\n",
       "    .dataframe tbody tr th:only-of-type {\n",
       "        vertical-align: middle;\n",
       "    }\n",
       "\n",
       "    .dataframe tbody tr th {\n",
       "        vertical-align: top;\n",
       "    }\n",
       "\n",
       "    .dataframe thead th {\n",
       "        text-align: right;\n",
       "    }\n",
       "</style>\n",
       "<table border=\"1\" class=\"dataframe\">\n",
       "  <thead>\n",
       "    <tr style=\"text-align: right;\">\n",
       "      <th></th>\n",
       "      <th>Unnamed: 0</th>\n",
       "      <th>Date</th>\n",
       "      <th>AveragePrice</th>\n",
       "      <th>Total Volume</th>\n",
       "      <th>4046</th>\n",
       "      <th>4225</th>\n",
       "      <th>4770</th>\n",
       "      <th>Total Bags</th>\n",
       "      <th>Small Bags</th>\n",
       "      <th>Large Bags</th>\n",
       "      <th>XLarge Bags</th>\n",
       "      <th>type</th>\n",
       "      <th>year</th>\n",
       "      <th>region</th>\n",
       "      <th>yearmonth</th>\n",
       "    </tr>\n",
       "  </thead>\n",
       "  <tbody>\n",
       "    <tr>\n",
       "      <th>51</th>\n",
       "      <td>51</td>\n",
       "      <td>2015-01-04</td>\n",
       "      <td>1.22</td>\n",
       "      <td>40873.28</td>\n",
       "      <td>2819.50</td>\n",
       "      <td>28287.42</td>\n",
       "      <td>49.90</td>\n",
       "      <td>9716.46</td>\n",
       "      <td>9186.93</td>\n",
       "      <td>529.53</td>\n",
       "      <td>0.00</td>\n",
       "      <td>conventional</td>\n",
       "      <td>2015</td>\n",
       "      <td>Albany</td>\n",
       "      <td>2015-01</td>\n",
       "    </tr>\n",
       "    <tr>\n",
       "      <th>50</th>\n",
       "      <td>50</td>\n",
       "      <td>2015-01-11</td>\n",
       "      <td>1.24</td>\n",
       "      <td>41195.08</td>\n",
       "      <td>1002.85</td>\n",
       "      <td>31640.34</td>\n",
       "      <td>127.12</td>\n",
       "      <td>8424.77</td>\n",
       "      <td>8036.04</td>\n",
       "      <td>388.73</td>\n",
       "      <td>0.00</td>\n",
       "      <td>conventional</td>\n",
       "      <td>2015</td>\n",
       "      <td>Albany</td>\n",
       "      <td>2015-01</td>\n",
       "    </tr>\n",
       "    <tr>\n",
       "      <th>49</th>\n",
       "      <td>49</td>\n",
       "      <td>2015-01-18</td>\n",
       "      <td>1.17</td>\n",
       "      <td>44511.28</td>\n",
       "      <td>914.14</td>\n",
       "      <td>31540.32</td>\n",
       "      <td>135.77</td>\n",
       "      <td>11921.05</td>\n",
       "      <td>11651.09</td>\n",
       "      <td>269.96</td>\n",
       "      <td>0.00</td>\n",
       "      <td>conventional</td>\n",
       "      <td>2015</td>\n",
       "      <td>Albany</td>\n",
       "      <td>2015-01</td>\n",
       "    </tr>\n",
       "    <tr>\n",
       "      <th>48</th>\n",
       "      <td>48</td>\n",
       "      <td>2015-01-25</td>\n",
       "      <td>1.06</td>\n",
       "      <td>45147.50</td>\n",
       "      <td>941.38</td>\n",
       "      <td>33196.16</td>\n",
       "      <td>164.14</td>\n",
       "      <td>10845.82</td>\n",
       "      <td>10103.35</td>\n",
       "      <td>742.47</td>\n",
       "      <td>0.00</td>\n",
       "      <td>conventional</td>\n",
       "      <td>2015</td>\n",
       "      <td>Albany</td>\n",
       "      <td>2015-01</td>\n",
       "    </tr>\n",
       "    <tr>\n",
       "      <th>47</th>\n",
       "      <td>47</td>\n",
       "      <td>2015-02-01</td>\n",
       "      <td>0.99</td>\n",
       "      <td>70873.60</td>\n",
       "      <td>1353.90</td>\n",
       "      <td>60017.20</td>\n",
       "      <td>179.32</td>\n",
       "      <td>9323.18</td>\n",
       "      <td>9170.82</td>\n",
       "      <td>152.36</td>\n",
       "      <td>0.00</td>\n",
       "      <td>conventional</td>\n",
       "      <td>2015</td>\n",
       "      <td>Albany</td>\n",
       "      <td>2015-02</td>\n",
       "    </tr>\n",
       "    <tr>\n",
       "      <th>...</th>\n",
       "      <td>...</td>\n",
       "      <td>...</td>\n",
       "      <td>...</td>\n",
       "      <td>...</td>\n",
       "      <td>...</td>\n",
       "      <td>...</td>\n",
       "      <td>...</td>\n",
       "      <td>...</td>\n",
       "      <td>...</td>\n",
       "      <td>...</td>\n",
       "      <td>...</td>\n",
       "      <td>...</td>\n",
       "      <td>...</td>\n",
       "      <td>...</td>\n",
       "      <td>...</td>\n",
       "    </tr>\n",
       "    <tr>\n",
       "      <th>8482</th>\n",
       "      <td>4</td>\n",
       "      <td>2018-02-25</td>\n",
       "      <td>1.28</td>\n",
       "      <td>104278.89</td>\n",
       "      <td>10368.77</td>\n",
       "      <td>59723.32</td>\n",
       "      <td>48.00</td>\n",
       "      <td>34138.80</td>\n",
       "      <td>30126.31</td>\n",
       "      <td>3702.49</td>\n",
       "      <td>310.00</td>\n",
       "      <td>conventional</td>\n",
       "      <td>2018</td>\n",
       "      <td>Albany</td>\n",
       "      <td>2018-02</td>\n",
       "    </tr>\n",
       "    <tr>\n",
       "      <th>8481</th>\n",
       "      <td>3</td>\n",
       "      <td>2018-03-04</td>\n",
       "      <td>1.08</td>\n",
       "      <td>139520.60</td>\n",
       "      <td>12002.12</td>\n",
       "      <td>105069.57</td>\n",
       "      <td>95.62</td>\n",
       "      <td>22353.29</td>\n",
       "      <td>16128.51</td>\n",
       "      <td>5941.45</td>\n",
       "      <td>283.33</td>\n",
       "      <td>conventional</td>\n",
       "      <td>2018</td>\n",
       "      <td>Albany</td>\n",
       "      <td>2018-03</td>\n",
       "    </tr>\n",
       "    <tr>\n",
       "      <th>8480</th>\n",
       "      <td>2</td>\n",
       "      <td>2018-03-11</td>\n",
       "      <td>1.12</td>\n",
       "      <td>144648.75</td>\n",
       "      <td>15823.35</td>\n",
       "      <td>110950.68</td>\n",
       "      <td>70.00</td>\n",
       "      <td>17804.72</td>\n",
       "      <td>14480.52</td>\n",
       "      <td>3033.09</td>\n",
       "      <td>291.11</td>\n",
       "      <td>conventional</td>\n",
       "      <td>2018</td>\n",
       "      <td>Albany</td>\n",
       "      <td>2018-03</td>\n",
       "    </tr>\n",
       "    <tr>\n",
       "      <th>8479</th>\n",
       "      <td>1</td>\n",
       "      <td>2018-03-18</td>\n",
       "      <td>1.35</td>\n",
       "      <td>105304.65</td>\n",
       "      <td>13234.86</td>\n",
       "      <td>61037.58</td>\n",
       "      <td>55.00</td>\n",
       "      <td>30977.21</td>\n",
       "      <td>26755.90</td>\n",
       "      <td>3721.31</td>\n",
       "      <td>500.00</td>\n",
       "      <td>conventional</td>\n",
       "      <td>2018</td>\n",
       "      <td>Albany</td>\n",
       "      <td>2018-03</td>\n",
       "    </tr>\n",
       "    <tr>\n",
       "      <th>8478</th>\n",
       "      <td>0</td>\n",
       "      <td>2018-03-25</td>\n",
       "      <td>1.57</td>\n",
       "      <td>149396.50</td>\n",
       "      <td>16361.69</td>\n",
       "      <td>109045.03</td>\n",
       "      <td>65.45</td>\n",
       "      <td>23924.33</td>\n",
       "      <td>19273.80</td>\n",
       "      <td>4270.53</td>\n",
       "      <td>380.00</td>\n",
       "      <td>conventional</td>\n",
       "      <td>2018</td>\n",
       "      <td>Albany</td>\n",
       "      <td>2018-03</td>\n",
       "    </tr>\n",
       "  </tbody>\n",
       "</table>\n",
       "<p>169 rows × 15 columns</p>\n",
       "</div>"
      ],
      "text/plain": [
       "      Unnamed: 0       Date  AveragePrice  Total Volume      4046       4225  \\\n",
       "51            51 2015-01-04          1.22      40873.28   2819.50   28287.42   \n",
       "50            50 2015-01-11          1.24      41195.08   1002.85   31640.34   \n",
       "49            49 2015-01-18          1.17      44511.28    914.14   31540.32   \n",
       "48            48 2015-01-25          1.06      45147.50    941.38   33196.16   \n",
       "47            47 2015-02-01          0.99      70873.60   1353.90   60017.20   \n",
       "...          ...        ...           ...           ...       ...        ...   \n",
       "8482           4 2018-02-25          1.28     104278.89  10368.77   59723.32   \n",
       "8481           3 2018-03-04          1.08     139520.60  12002.12  105069.57   \n",
       "8480           2 2018-03-11          1.12     144648.75  15823.35  110950.68   \n",
       "8479           1 2018-03-18          1.35     105304.65  13234.86   61037.58   \n",
       "8478           0 2018-03-25          1.57     149396.50  16361.69  109045.03   \n",
       "\n",
       "        4770  Total Bags  Small Bags  Large Bags  XLarge Bags          type  \\\n",
       "51     49.90     9716.46     9186.93      529.53         0.00  conventional   \n",
       "50    127.12     8424.77     8036.04      388.73         0.00  conventional   \n",
       "49    135.77    11921.05    11651.09      269.96         0.00  conventional   \n",
       "48    164.14    10845.82    10103.35      742.47         0.00  conventional   \n",
       "47    179.32     9323.18     9170.82      152.36         0.00  conventional   \n",
       "...      ...         ...         ...         ...          ...           ...   \n",
       "8482   48.00    34138.80    30126.31     3702.49       310.00  conventional   \n",
       "8481   95.62    22353.29    16128.51     5941.45       283.33  conventional   \n",
       "8480   70.00    17804.72    14480.52     3033.09       291.11  conventional   \n",
       "8479   55.00    30977.21    26755.90     3721.31       500.00  conventional   \n",
       "8478   65.45    23924.33    19273.80     4270.53       380.00  conventional   \n",
       "\n",
       "      year  region yearmonth  \n",
       "51    2015  Albany   2015-01  \n",
       "50    2015  Albany   2015-01  \n",
       "49    2015  Albany   2015-01  \n",
       "48    2015  Albany   2015-01  \n",
       "47    2015  Albany   2015-02  \n",
       "...    ...     ...       ...  \n",
       "8482  2018  Albany   2018-02  \n",
       "8481  2018  Albany   2018-03  \n",
       "8480  2018  Albany   2018-03  \n",
       "8479  2018  Albany   2018-03  \n",
       "8478  2018  Albany   2018-03  \n",
       "\n",
       "[169 rows x 15 columns]"
      ]
     },
     "execution_count": 13,
     "metadata": {},
     "output_type": "execute_result"
    }
   ],
   "source": [
    "avocado_type11['yearmonth']=avocado_type11['Date'].dt.strftime('%Y-%m')\n",
    "avocado_type11"
   ]
  },
  {
   "cell_type": "code",
   "execution_count": 14,
   "id": "5fdf465f",
   "metadata": {},
   "outputs": [
    {
     "data": {
      "text/html": [
       "<div>\n",
       "<style scoped>\n",
       "    .dataframe tbody tr th:only-of-type {\n",
       "        vertical-align: middle;\n",
       "    }\n",
       "\n",
       "    .dataframe tbody tr th {\n",
       "        vertical-align: top;\n",
       "    }\n",
       "\n",
       "    .dataframe thead th {\n",
       "        text-align: right;\n",
       "    }\n",
       "</style>\n",
       "<table border=\"1\" class=\"dataframe\">\n",
       "  <thead>\n",
       "    <tr style=\"text-align: right;\">\n",
       "      <th></th>\n",
       "      <th>yearmonth</th>\n",
       "      <th>Small Bags</th>\n",
       "      <th>Large Bags</th>\n",
       "      <th>XLarge Bags</th>\n",
       "    </tr>\n",
       "  </thead>\n",
       "  <tbody>\n",
       "    <tr>\n",
       "      <th>0</th>\n",
       "      <td>2015-01</td>\n",
       "      <td>38977.41</td>\n",
       "      <td>1930.69</td>\n",
       "      <td>0.00</td>\n",
       "    </tr>\n",
       "    <tr>\n",
       "      <th>1</th>\n",
       "      <td>2015-02</td>\n",
       "      <td>38263.95</td>\n",
       "      <td>1373.34</td>\n",
       "      <td>0.00</td>\n",
       "    </tr>\n",
       "    <tr>\n",
       "      <th>2</th>\n",
       "      <td>2015-03</td>\n",
       "      <td>44264.29</td>\n",
       "      <td>1873.58</td>\n",
       "      <td>0.00</td>\n",
       "    </tr>\n",
       "    <tr>\n",
       "      <th>3</th>\n",
       "      <td>2015-04</td>\n",
       "      <td>51987.45</td>\n",
       "      <td>2822.05</td>\n",
       "      <td>104.17</td>\n",
       "    </tr>\n",
       "    <tr>\n",
       "      <th>4</th>\n",
       "      <td>2015-05</td>\n",
       "      <td>107007.23</td>\n",
       "      <td>2078.16</td>\n",
       "      <td>0.00</td>\n",
       "    </tr>\n",
       "    <tr>\n",
       "      <th>5</th>\n",
       "      <td>2015-06</td>\n",
       "      <td>98631.89</td>\n",
       "      <td>1683.64</td>\n",
       "      <td>0.00</td>\n",
       "    </tr>\n",
       "    <tr>\n",
       "      <th>6</th>\n",
       "      <td>2015-07</td>\n",
       "      <td>78118.29</td>\n",
       "      <td>659.41</td>\n",
       "      <td>33.33</td>\n",
       "    </tr>\n",
       "    <tr>\n",
       "      <th>7</th>\n",
       "      <td>2015-08</td>\n",
       "      <td>52147.26</td>\n",
       "      <td>555.96</td>\n",
       "      <td>0.00</td>\n",
       "    </tr>\n",
       "    <tr>\n",
       "      <th>8</th>\n",
       "      <td>2015-09</td>\n",
       "      <td>30806.03</td>\n",
       "      <td>1772.57</td>\n",
       "      <td>0.00</td>\n",
       "    </tr>\n",
       "    <tr>\n",
       "      <th>9</th>\n",
       "      <td>2015-10</td>\n",
       "      <td>34185.58</td>\n",
       "      <td>1526.65</td>\n",
       "      <td>0.00</td>\n",
       "    </tr>\n",
       "    <tr>\n",
       "      <th>10</th>\n",
       "      <td>2015-11</td>\n",
       "      <td>38110.92</td>\n",
       "      <td>1293.38</td>\n",
       "      <td>0.00</td>\n",
       "    </tr>\n",
       "    <tr>\n",
       "      <th>11</th>\n",
       "      <td>2015-12</td>\n",
       "      <td>31731.30</td>\n",
       "      <td>427.64</td>\n",
       "      <td>0.00</td>\n",
       "    </tr>\n",
       "    <tr>\n",
       "      <th>12</th>\n",
       "      <td>2016-01</td>\n",
       "      <td>81045.74</td>\n",
       "      <td>2130.93</td>\n",
       "      <td>0.00</td>\n",
       "    </tr>\n",
       "    <tr>\n",
       "      <th>13</th>\n",
       "      <td>2016-02</td>\n",
       "      <td>53033.60</td>\n",
       "      <td>5621.56</td>\n",
       "      <td>0.00</td>\n",
       "    </tr>\n",
       "    <tr>\n",
       "      <th>14</th>\n",
       "      <td>2016-03</td>\n",
       "      <td>50617.23</td>\n",
       "      <td>1555.88</td>\n",
       "      <td>0.00</td>\n",
       "    </tr>\n",
       "    <tr>\n",
       "      <th>15</th>\n",
       "      <td>2016-04</td>\n",
       "      <td>50835.96</td>\n",
       "      <td>1961.99</td>\n",
       "      <td>231.94</td>\n",
       "    </tr>\n",
       "    <tr>\n",
       "      <th>16</th>\n",
       "      <td>2016-05</td>\n",
       "      <td>93510.81</td>\n",
       "      <td>1044.70</td>\n",
       "      <td>1203.61</td>\n",
       "    </tr>\n",
       "    <tr>\n",
       "      <th>17</th>\n",
       "      <td>2016-06</td>\n",
       "      <td>70760.43</td>\n",
       "      <td>1490.10</td>\n",
       "      <td>6335.00</td>\n",
       "    </tr>\n",
       "    <tr>\n",
       "      <th>18</th>\n",
       "      <td>2016-07</td>\n",
       "      <td>83630.92</td>\n",
       "      <td>1972.39</td>\n",
       "      <td>10190.00</td>\n",
       "    </tr>\n",
       "    <tr>\n",
       "      <th>19</th>\n",
       "      <td>2016-08</td>\n",
       "      <td>57210.66</td>\n",
       "      <td>1084.78</td>\n",
       "      <td>3527.23</td>\n",
       "    </tr>\n",
       "    <tr>\n",
       "      <th>20</th>\n",
       "      <td>2016-09</td>\n",
       "      <td>44724.30</td>\n",
       "      <td>1683.89</td>\n",
       "      <td>105.00</td>\n",
       "    </tr>\n",
       "    <tr>\n",
       "      <th>21</th>\n",
       "      <td>2016-10</td>\n",
       "      <td>52837.70</td>\n",
       "      <td>1405.67</td>\n",
       "      <td>0.00</td>\n",
       "    </tr>\n",
       "    <tr>\n",
       "      <th>22</th>\n",
       "      <td>2016-11</td>\n",
       "      <td>37477.14</td>\n",
       "      <td>1341.98</td>\n",
       "      <td>56.94</td>\n",
       "    </tr>\n",
       "    <tr>\n",
       "      <th>23</th>\n",
       "      <td>2016-12</td>\n",
       "      <td>38546.84</td>\n",
       "      <td>1873.00</td>\n",
       "      <td>43.22</td>\n",
       "    </tr>\n",
       "    <tr>\n",
       "      <th>24</th>\n",
       "      <td>2017-01</td>\n",
       "      <td>56502.28</td>\n",
       "      <td>643.38</td>\n",
       "      <td>13.18</td>\n",
       "    </tr>\n",
       "    <tr>\n",
       "      <th>25</th>\n",
       "      <td>2017-02</td>\n",
       "      <td>43392.70</td>\n",
       "      <td>1107.53</td>\n",
       "      <td>0.00</td>\n",
       "    </tr>\n",
       "    <tr>\n",
       "      <th>26</th>\n",
       "      <td>2017-03</td>\n",
       "      <td>39822.34</td>\n",
       "      <td>37091.74</td>\n",
       "      <td>0.00</td>\n",
       "    </tr>\n",
       "    <tr>\n",
       "      <th>27</th>\n",
       "      <td>2017-04</td>\n",
       "      <td>39417.40</td>\n",
       "      <td>54585.36</td>\n",
       "      <td>0.00</td>\n",
       "    </tr>\n",
       "    <tr>\n",
       "      <th>28</th>\n",
       "      <td>2017-05</td>\n",
       "      <td>26808.97</td>\n",
       "      <td>45990.29</td>\n",
       "      <td>813.34</td>\n",
       "    </tr>\n",
       "    <tr>\n",
       "      <th>29</th>\n",
       "      <td>2017-06</td>\n",
       "      <td>14100.03</td>\n",
       "      <td>28150.05</td>\n",
       "      <td>5268.33</td>\n",
       "    </tr>\n",
       "    <tr>\n",
       "      <th>30</th>\n",
       "      <td>2017-07</td>\n",
       "      <td>28515.63</td>\n",
       "      <td>23413.15</td>\n",
       "      <td>6695.00</td>\n",
       "    </tr>\n",
       "    <tr>\n",
       "      <th>31</th>\n",
       "      <td>2017-08</td>\n",
       "      <td>32215.37</td>\n",
       "      <td>17842.53</td>\n",
       "      <td>3229.99</td>\n",
       "    </tr>\n",
       "    <tr>\n",
       "      <th>32</th>\n",
       "      <td>2017-09</td>\n",
       "      <td>19855.68</td>\n",
       "      <td>15713.01</td>\n",
       "      <td>2643.33</td>\n",
       "    </tr>\n",
       "    <tr>\n",
       "      <th>33</th>\n",
       "      <td>2017-10</td>\n",
       "      <td>21252.43</td>\n",
       "      <td>18022.24</td>\n",
       "      <td>0.00</td>\n",
       "    </tr>\n",
       "    <tr>\n",
       "      <th>34</th>\n",
       "      <td>2017-11</td>\n",
       "      <td>30478.42</td>\n",
       "      <td>20053.97</td>\n",
       "      <td>0.00</td>\n",
       "    </tr>\n",
       "    <tr>\n",
       "      <th>35</th>\n",
       "      <td>2017-12</td>\n",
       "      <td>35663.50</td>\n",
       "      <td>30261.00</td>\n",
       "      <td>0.00</td>\n",
       "    </tr>\n",
       "    <tr>\n",
       "      <th>36</th>\n",
       "      <td>2018-01</td>\n",
       "      <td>40284.47</td>\n",
       "      <td>26018.54</td>\n",
       "      <td>90.00</td>\n",
       "    </tr>\n",
       "    <tr>\n",
       "      <th>37</th>\n",
       "      <td>2018-02</td>\n",
       "      <td>69640.49</td>\n",
       "      <td>12756.59</td>\n",
       "      <td>1391.11</td>\n",
       "    </tr>\n",
       "    <tr>\n",
       "      <th>38</th>\n",
       "      <td>2018-03</td>\n",
       "      <td>76638.73</td>\n",
       "      <td>16966.38</td>\n",
       "      <td>1454.44</td>\n",
       "    </tr>\n",
       "  </tbody>\n",
       "</table>\n",
       "</div>"
      ],
      "text/plain": [
       "   yearmonth  Small Bags  Large Bags  XLarge Bags\n",
       "0    2015-01    38977.41     1930.69         0.00\n",
       "1    2015-02    38263.95     1373.34         0.00\n",
       "2    2015-03    44264.29     1873.58         0.00\n",
       "3    2015-04    51987.45     2822.05       104.17\n",
       "4    2015-05   107007.23     2078.16         0.00\n",
       "5    2015-06    98631.89     1683.64         0.00\n",
       "6    2015-07    78118.29      659.41        33.33\n",
       "7    2015-08    52147.26      555.96         0.00\n",
       "8    2015-09    30806.03     1772.57         0.00\n",
       "9    2015-10    34185.58     1526.65         0.00\n",
       "10   2015-11    38110.92     1293.38         0.00\n",
       "11   2015-12    31731.30      427.64         0.00\n",
       "12   2016-01    81045.74     2130.93         0.00\n",
       "13   2016-02    53033.60     5621.56         0.00\n",
       "14   2016-03    50617.23     1555.88         0.00\n",
       "15   2016-04    50835.96     1961.99       231.94\n",
       "16   2016-05    93510.81     1044.70      1203.61\n",
       "17   2016-06    70760.43     1490.10      6335.00\n",
       "18   2016-07    83630.92     1972.39     10190.00\n",
       "19   2016-08    57210.66     1084.78      3527.23\n",
       "20   2016-09    44724.30     1683.89       105.00\n",
       "21   2016-10    52837.70     1405.67         0.00\n",
       "22   2016-11    37477.14     1341.98        56.94\n",
       "23   2016-12    38546.84     1873.00        43.22\n",
       "24   2017-01    56502.28      643.38        13.18\n",
       "25   2017-02    43392.70     1107.53         0.00\n",
       "26   2017-03    39822.34    37091.74         0.00\n",
       "27   2017-04    39417.40    54585.36         0.00\n",
       "28   2017-05    26808.97    45990.29       813.34\n",
       "29   2017-06    14100.03    28150.05      5268.33\n",
       "30   2017-07    28515.63    23413.15      6695.00\n",
       "31   2017-08    32215.37    17842.53      3229.99\n",
       "32   2017-09    19855.68    15713.01      2643.33\n",
       "33   2017-10    21252.43    18022.24         0.00\n",
       "34   2017-11    30478.42    20053.97         0.00\n",
       "35   2017-12    35663.50    30261.00         0.00\n",
       "36   2018-01    40284.47    26018.54        90.00\n",
       "37   2018-02    69640.49    12756.59      1391.11\n",
       "38   2018-03    76638.73    16966.38      1454.44"
      ]
     },
     "execution_count": 14,
     "metadata": {},
     "output_type": "execute_result"
    }
   ],
   "source": [
    "bag_counts = avocado_type11.groupby('yearmonth').agg({'Small Bags': 'sum', 'Large Bags': 'sum', 'XLarge Bags': 'sum'}).reset_index()\n",
    "bag_counts"
   ]
  },
  {
   "cell_type": "code",
   "execution_count": 15,
   "id": "a505503e",
   "metadata": {},
   "outputs": [
    {
     "data": {
      "text/html": [
       "<div>\n",
       "<style scoped>\n",
       "    .dataframe tbody tr th:only-of-type {\n",
       "        vertical-align: middle;\n",
       "    }\n",
       "\n",
       "    .dataframe tbody tr th {\n",
       "        vertical-align: top;\n",
       "    }\n",
       "\n",
       "    .dataframe thead th {\n",
       "        text-align: right;\n",
       "    }\n",
       "</style>\n",
       "<table border=\"1\" class=\"dataframe\">\n",
       "  <thead>\n",
       "    <tr style=\"text-align: right;\">\n",
       "      <th></th>\n",
       "      <th>yearmonth</th>\n",
       "      <th>bagsize</th>\n",
       "      <th>Count</th>\n",
       "    </tr>\n",
       "  </thead>\n",
       "  <tbody>\n",
       "    <tr>\n",
       "      <th>1</th>\n",
       "      <td>2015-02</td>\n",
       "      <td>Small Bags</td>\n",
       "      <td>38263.95</td>\n",
       "    </tr>\n",
       "    <tr>\n",
       "      <th>2</th>\n",
       "      <td>2015-03</td>\n",
       "      <td>Small Bags</td>\n",
       "      <td>44264.29</td>\n",
       "    </tr>\n",
       "    <tr>\n",
       "      <th>3</th>\n",
       "      <td>2015-04</td>\n",
       "      <td>Small Bags</td>\n",
       "      <td>51987.45</td>\n",
       "    </tr>\n",
       "    <tr>\n",
       "      <th>4</th>\n",
       "      <td>2015-05</td>\n",
       "      <td>Small Bags</td>\n",
       "      <td>107007.23</td>\n",
       "    </tr>\n",
       "    <tr>\n",
       "      <th>5</th>\n",
       "      <td>2015-06</td>\n",
       "      <td>Small Bags</td>\n",
       "      <td>98631.89</td>\n",
       "    </tr>\n",
       "    <tr>\n",
       "      <th>6</th>\n",
       "      <td>2015-07</td>\n",
       "      <td>Small Bags</td>\n",
       "      <td>78118.29</td>\n",
       "    </tr>\n",
       "    <tr>\n",
       "      <th>7</th>\n",
       "      <td>2015-08</td>\n",
       "      <td>Small Bags</td>\n",
       "      <td>52147.26</td>\n",
       "    </tr>\n",
       "    <tr>\n",
       "      <th>8</th>\n",
       "      <td>2015-09</td>\n",
       "      <td>Small Bags</td>\n",
       "      <td>30806.03</td>\n",
       "    </tr>\n",
       "    <tr>\n",
       "      <th>9</th>\n",
       "      <td>2015-10</td>\n",
       "      <td>Small Bags</td>\n",
       "      <td>34185.58</td>\n",
       "    </tr>\n",
       "    <tr>\n",
       "      <th>10</th>\n",
       "      <td>2015-11</td>\n",
       "      <td>Small Bags</td>\n",
       "      <td>38110.92</td>\n",
       "    </tr>\n",
       "    <tr>\n",
       "      <th>11</th>\n",
       "      <td>2015-12</td>\n",
       "      <td>Small Bags</td>\n",
       "      <td>31731.30</td>\n",
       "    </tr>\n",
       "    <tr>\n",
       "      <th>12</th>\n",
       "      <td>2016-01</td>\n",
       "      <td>Small Bags</td>\n",
       "      <td>81045.74</td>\n",
       "    </tr>\n",
       "    <tr>\n",
       "      <th>13</th>\n",
       "      <td>2016-02</td>\n",
       "      <td>Small Bags</td>\n",
       "      <td>53033.60</td>\n",
       "    </tr>\n",
       "    <tr>\n",
       "      <th>14</th>\n",
       "      <td>2016-03</td>\n",
       "      <td>Small Bags</td>\n",
       "      <td>50617.23</td>\n",
       "    </tr>\n",
       "    <tr>\n",
       "      <th>15</th>\n",
       "      <td>2016-04</td>\n",
       "      <td>Small Bags</td>\n",
       "      <td>50835.96</td>\n",
       "    </tr>\n",
       "    <tr>\n",
       "      <th>16</th>\n",
       "      <td>2016-05</td>\n",
       "      <td>Small Bags</td>\n",
       "      <td>93510.81</td>\n",
       "    </tr>\n",
       "    <tr>\n",
       "      <th>17</th>\n",
       "      <td>2016-06</td>\n",
       "      <td>Small Bags</td>\n",
       "      <td>70760.43</td>\n",
       "    </tr>\n",
       "    <tr>\n",
       "      <th>18</th>\n",
       "      <td>2016-07</td>\n",
       "      <td>Small Bags</td>\n",
       "      <td>83630.92</td>\n",
       "    </tr>\n",
       "    <tr>\n",
       "      <th>19</th>\n",
       "      <td>2016-08</td>\n",
       "      <td>Small Bags</td>\n",
       "      <td>57210.66</td>\n",
       "    </tr>\n",
       "    <tr>\n",
       "      <th>20</th>\n",
       "      <td>2016-09</td>\n",
       "      <td>Small Bags</td>\n",
       "      <td>44724.30</td>\n",
       "    </tr>\n",
       "    <tr>\n",
       "      <th>21</th>\n",
       "      <td>2016-10</td>\n",
       "      <td>Small Bags</td>\n",
       "      <td>52837.70</td>\n",
       "    </tr>\n",
       "    <tr>\n",
       "      <th>22</th>\n",
       "      <td>2016-11</td>\n",
       "      <td>Small Bags</td>\n",
       "      <td>37477.14</td>\n",
       "    </tr>\n",
       "    <tr>\n",
       "      <th>23</th>\n",
       "      <td>2016-12</td>\n",
       "      <td>Small Bags</td>\n",
       "      <td>38546.84</td>\n",
       "    </tr>\n",
       "    <tr>\n",
       "      <th>24</th>\n",
       "      <td>2017-01</td>\n",
       "      <td>Small Bags</td>\n",
       "      <td>56502.28</td>\n",
       "    </tr>\n",
       "    <tr>\n",
       "      <th>25</th>\n",
       "      <td>2017-02</td>\n",
       "      <td>Small Bags</td>\n",
       "      <td>43392.70</td>\n",
       "    </tr>\n",
       "    <tr>\n",
       "      <th>26</th>\n",
       "      <td>2017-03</td>\n",
       "      <td>Small Bags</td>\n",
       "      <td>39822.34</td>\n",
       "    </tr>\n",
       "    <tr>\n",
       "      <th>27</th>\n",
       "      <td>2017-04</td>\n",
       "      <td>Small Bags</td>\n",
       "      <td>39417.40</td>\n",
       "    </tr>\n",
       "    <tr>\n",
       "      <th>28</th>\n",
       "      <td>2017-05</td>\n",
       "      <td>Small Bags</td>\n",
       "      <td>26808.97</td>\n",
       "    </tr>\n",
       "    <tr>\n",
       "      <th>29</th>\n",
       "      <td>2017-06</td>\n",
       "      <td>Small Bags</td>\n",
       "      <td>14100.03</td>\n",
       "    </tr>\n",
       "    <tr>\n",
       "      <th>30</th>\n",
       "      <td>2017-07</td>\n",
       "      <td>Small Bags</td>\n",
       "      <td>28515.63</td>\n",
       "    </tr>\n",
       "    <tr>\n",
       "      <th>31</th>\n",
       "      <td>2017-08</td>\n",
       "      <td>Small Bags</td>\n",
       "      <td>32215.37</td>\n",
       "    </tr>\n",
       "    <tr>\n",
       "      <th>32</th>\n",
       "      <td>2017-09</td>\n",
       "      <td>Small Bags</td>\n",
       "      <td>19855.68</td>\n",
       "    </tr>\n",
       "    <tr>\n",
       "      <th>33</th>\n",
       "      <td>2017-10</td>\n",
       "      <td>Small Bags</td>\n",
       "      <td>21252.43</td>\n",
       "    </tr>\n",
       "    <tr>\n",
       "      <th>34</th>\n",
       "      <td>2017-11</td>\n",
       "      <td>Small Bags</td>\n",
       "      <td>30478.42</td>\n",
       "    </tr>\n",
       "    <tr>\n",
       "      <th>35</th>\n",
       "      <td>2017-12</td>\n",
       "      <td>Small Bags</td>\n",
       "      <td>35663.50</td>\n",
       "    </tr>\n",
       "    <tr>\n",
       "      <th>36</th>\n",
       "      <td>2018-01</td>\n",
       "      <td>Small Bags</td>\n",
       "      <td>40284.47</td>\n",
       "    </tr>\n",
       "    <tr>\n",
       "      <th>37</th>\n",
       "      <td>2018-02</td>\n",
       "      <td>Small Bags</td>\n",
       "      <td>69640.49</td>\n",
       "    </tr>\n",
       "    <tr>\n",
       "      <th>38</th>\n",
       "      <td>2018-03</td>\n",
       "      <td>Small Bags</td>\n",
       "      <td>76638.73</td>\n",
       "    </tr>\n",
       "    <tr>\n",
       "      <th>39</th>\n",
       "      <td>2015-01</td>\n",
       "      <td>Large Bags</td>\n",
       "      <td>1930.69</td>\n",
       "    </tr>\n",
       "    <tr>\n",
       "      <th>40</th>\n",
       "      <td>2015-02</td>\n",
       "      <td>Large Bags</td>\n",
       "      <td>1373.34</td>\n",
       "    </tr>\n",
       "    <tr>\n",
       "      <th>41</th>\n",
       "      <td>2015-03</td>\n",
       "      <td>Large Bags</td>\n",
       "      <td>1873.58</td>\n",
       "    </tr>\n",
       "    <tr>\n",
       "      <th>42</th>\n",
       "      <td>2015-04</td>\n",
       "      <td>Large Bags</td>\n",
       "      <td>2822.05</td>\n",
       "    </tr>\n",
       "    <tr>\n",
       "      <th>43</th>\n",
       "      <td>2015-05</td>\n",
       "      <td>Large Bags</td>\n",
       "      <td>2078.16</td>\n",
       "    </tr>\n",
       "    <tr>\n",
       "      <th>44</th>\n",
       "      <td>2015-06</td>\n",
       "      <td>Large Bags</td>\n",
       "      <td>1683.64</td>\n",
       "    </tr>\n",
       "    <tr>\n",
       "      <th>45</th>\n",
       "      <td>2015-07</td>\n",
       "      <td>Large Bags</td>\n",
       "      <td>659.41</td>\n",
       "    </tr>\n",
       "    <tr>\n",
       "      <th>46</th>\n",
       "      <td>2015-08</td>\n",
       "      <td>Large Bags</td>\n",
       "      <td>555.96</td>\n",
       "    </tr>\n",
       "    <tr>\n",
       "      <th>47</th>\n",
       "      <td>2015-09</td>\n",
       "      <td>Large Bags</td>\n",
       "      <td>1772.57</td>\n",
       "    </tr>\n",
       "    <tr>\n",
       "      <th>48</th>\n",
       "      <td>2015-10</td>\n",
       "      <td>Large Bags</td>\n",
       "      <td>1526.65</td>\n",
       "    </tr>\n",
       "    <tr>\n",
       "      <th>49</th>\n",
       "      <td>2015-11</td>\n",
       "      <td>Large Bags</td>\n",
       "      <td>1293.38</td>\n",
       "    </tr>\n",
       "  </tbody>\n",
       "</table>\n",
       "</div>"
      ],
      "text/plain": [
       "   yearmonth     bagsize      Count\n",
       "1    2015-02  Small Bags   38263.95\n",
       "2    2015-03  Small Bags   44264.29\n",
       "3    2015-04  Small Bags   51987.45\n",
       "4    2015-05  Small Bags  107007.23\n",
       "5    2015-06  Small Bags   98631.89\n",
       "6    2015-07  Small Bags   78118.29\n",
       "7    2015-08  Small Bags   52147.26\n",
       "8    2015-09  Small Bags   30806.03\n",
       "9    2015-10  Small Bags   34185.58\n",
       "10   2015-11  Small Bags   38110.92\n",
       "11   2015-12  Small Bags   31731.30\n",
       "12   2016-01  Small Bags   81045.74\n",
       "13   2016-02  Small Bags   53033.60\n",
       "14   2016-03  Small Bags   50617.23\n",
       "15   2016-04  Small Bags   50835.96\n",
       "16   2016-05  Small Bags   93510.81\n",
       "17   2016-06  Small Bags   70760.43\n",
       "18   2016-07  Small Bags   83630.92\n",
       "19   2016-08  Small Bags   57210.66\n",
       "20   2016-09  Small Bags   44724.30\n",
       "21   2016-10  Small Bags   52837.70\n",
       "22   2016-11  Small Bags   37477.14\n",
       "23   2016-12  Small Bags   38546.84\n",
       "24   2017-01  Small Bags   56502.28\n",
       "25   2017-02  Small Bags   43392.70\n",
       "26   2017-03  Small Bags   39822.34\n",
       "27   2017-04  Small Bags   39417.40\n",
       "28   2017-05  Small Bags   26808.97\n",
       "29   2017-06  Small Bags   14100.03\n",
       "30   2017-07  Small Bags   28515.63\n",
       "31   2017-08  Small Bags   32215.37\n",
       "32   2017-09  Small Bags   19855.68\n",
       "33   2017-10  Small Bags   21252.43\n",
       "34   2017-11  Small Bags   30478.42\n",
       "35   2017-12  Small Bags   35663.50\n",
       "36   2018-01  Small Bags   40284.47\n",
       "37   2018-02  Small Bags   69640.49\n",
       "38   2018-03  Small Bags   76638.73\n",
       "39   2015-01  Large Bags    1930.69\n",
       "40   2015-02  Large Bags    1373.34\n",
       "41   2015-03  Large Bags    1873.58\n",
       "42   2015-04  Large Bags    2822.05\n",
       "43   2015-05  Large Bags    2078.16\n",
       "44   2015-06  Large Bags    1683.64\n",
       "45   2015-07  Large Bags     659.41\n",
       "46   2015-08  Large Bags     555.96\n",
       "47   2015-09  Large Bags    1772.57\n",
       "48   2015-10  Large Bags    1526.65\n",
       "49   2015-11  Large Bags    1293.38"
      ]
     },
     "execution_count": 15,
     "metadata": {},
     "output_type": "execute_result"
    }
   ],
   "source": [
    "melted_bag_data=bag_counts.melt(id_vars='yearmonth',value_vars=['Small Bags','Large Bags','XLarge Bags'], var_name='bagsize',value_name='Count')\n",
    "melted_bag_data[1:50]"
   ]
  },
  {
   "cell_type": "code",
   "execution_count": 18,
   "id": "3abce80a",
   "metadata": {},
   "outputs": [
    {
     "data": {
      "text/plain": [
       "array(['conventional', 'organic'], dtype=object)"
      ]
     },
     "execution_count": 18,
     "metadata": {},
     "output_type": "execute_result"
    }
   ],
   "source": [
    "regions=avocado_df[\"region\"].sort_values().unique()\n",
    "avocado_types=avocado_df[\"type\"].sort_values().unique()\n",
    "regions\n",
    "avocado_types"
   ]
  },
  {
   "cell_type": "code",
   "execution_count": 34,
   "id": "f25b2bc9",
   "metadata": {},
   "outputs": [],
   "source": [
    "import plotly.express as px\n",
    "#initializing dash\n",
    "app_1=Dash(__name__)"
   ]
  },
  {
   "cell_type": "code",
   "execution_count": 33,
   "id": "a41edeac",
   "metadata": {},
   "outputs": [
    {
     "name": "stdout",
     "output_type": "stream",
     "text": [
      "      Unnamed: 0       Date  AveragePrice  Total Volume      4046       4225  \\\n",
      "5616           0 2017-12-31          1.47     113514.42   2622.70  101135.53   \n",
      "5617           1 2017-12-24          1.45      77039.09   2811.71   58592.23   \n",
      "5618           2 2017-12-17          1.43      70677.56   2578.95   50811.52   \n",
      "5619           3 2017-12-10          1.29      92325.53   3220.05   75147.56   \n",
      "5620           4 2017-12-03          1.39     139970.00   3772.00  126551.00   \n",
      "5621           5 2017-11-26          1.50      62977.00   2413.00   49076.00   \n",
      "5622           6 2017-11-19          1.65      97273.00   2695.00   80596.00   \n",
      "5623           7 2017-11-12          1.26     113586.00   4509.00   96748.00   \n",
      "5624           8 2017-11-05          1.62      71076.94   2483.36   55509.31   \n",
      "5625           9 2017-10-29          1.67      69432.23   2959.76   57585.49   \n",
      "5626          10 2017-10-22          1.56      69704.09   3758.80   57340.30   \n",
      "5627          11 2017-10-15          1.65      73574.89   3383.35   63355.37   \n",
      "5628          12 2017-10-08          1.78      55368.61   3679.82   45843.75   \n",
      "5629          13 2017-10-01          1.69      71205.11   4411.02   57416.25   \n",
      "5630          14 2017-09-24          1.64      68539.64   2508.62   56023.16   \n",
      "5631          15 2017-09-17          1.41      80109.29   3986.20   66934.64   \n",
      "5632          16 2017-09-10          1.78      99645.88   3368.35   87155.11   \n",
      "5633          17 2017-09-03          1.76      74297.64   4738.38   59299.03   \n",
      "5634          18 2017-08-27          1.61      75471.56   2156.20   59831.83   \n",
      "5635          19 2017-08-20          1.61      74620.33   1553.71   59028.13   \n",
      "5636          20 2017-08-13          1.52     133070.41   1947.26  118605.14   \n",
      "5637          21 2017-08-06          1.53      92938.17   2456.91   76509.07   \n",
      "5638          22 2017-07-30          1.61      83599.96   1915.81   73287.66   \n",
      "5639          23 2017-07-23          1.49      84416.61   1905.52   72533.28   \n",
      "5640          24 2017-07-16          1.39     102461.61   2468.78   86707.66   \n",
      "5641          25 2017-07-09          1.52     101331.41   2899.46   81929.02   \n",
      "5642          26 2017-07-02          1.56      98282.07   2808.47   79968.24   \n",
      "5643          27 2017-06-25          1.53      89303.04   2224.67   74282.58   \n",
      "5644          28 2017-06-18          1.58      97079.34   2454.01   82154.43   \n",
      "5645          29 2017-06-11          1.65      91949.26   1989.84   76736.87   \n",
      "5646          30 2017-06-04          1.70      84842.97   1923.04   72573.09   \n",
      "5647          31 2017-05-28          1.80     121869.11   2345.65  106690.16   \n",
      "5648          32 2017-05-21          1.38     100256.85   2307.02   86817.51   \n",
      "5649          33 2017-05-14          1.77      96750.67   2804.86   80469.48   \n",
      "5650          34 2017-05-07          1.47     127193.26   2473.53   87791.87   \n",
      "5651          35 2017-04-30          1.13     124926.39   2573.11   99451.52   \n",
      "5652          36 2017-04-23          1.34      89327.10   4437.50   61512.84   \n",
      "5653          37 2017-04-16          1.62      90487.05   4362.98   71957.73   \n",
      "5654          38 2017-04-09          1.54     105436.11   3708.13   87775.86   \n",
      "5655          39 2017-04-02          1.62      92621.11   4530.80   68015.37   \n",
      "5656          40 2017-03-26          1.16     122951.65   3184.29  100854.22   \n",
      "5657          41 2017-03-19          1.60      92774.61   2332.96   72033.15   \n",
      "8480           2 2018-03-11          1.12     144648.75  15823.35  110950.68   \n",
      "8481           3 2018-03-04          1.08     139520.60  12002.12  105069.57   \n",
      "8482           4 2018-02-25          1.28     104278.89  10368.77   59723.32   \n",
      "8483           5 2018-02-18          1.43      85630.24   5499.73   61661.76   \n",
      "8484           6 2018-02-11          1.45     121804.36   8183.48   95548.47   \n",
      "8485           7 2018-02-04          1.03     216738.47   7625.65  195725.06   \n",
      "8486           8 2018-01-28          1.57      93625.03   3101.17   74627.23   \n",
      "8487           9 2018-01-21          1.69     135196.35   3133.37  116520.88   \n",
      "8488          10 2018-01-14          1.42      95246.38   2897.41   76570.67   \n",
      "8489          11 2018-01-07          1.13      98540.22   2940.63   76192.61   \n",
      "\n",
      "         4770  Total Bags  Small Bags  Large Bags  XLarge Bags          type  \\\n",
      "5616    20.25     9735.94     5556.98     4178.96         0.00  conventional   \n",
      "5617    19.06    15616.09     6863.18     8752.91         0.00  conventional   \n",
      "5618    79.18    17207.91     8914.13     8293.78         0.00  conventional   \n",
      "5619   104.36    13853.56     7268.21     6585.35         0.00  conventional   \n",
      "5620   136.00     9511.00     7061.00     2450.00         0.00  conventional   \n",
      "5621    62.00    11426.00     5059.00     6368.00         0.00  conventional   \n",
      "5622    43.00    13940.00     7536.00     6404.00         0.00  conventional   \n",
      "5623   213.00    12115.00     8006.00     4109.00         0.00  conventional   \n",
      "5624    33.88    13050.39     9877.42     3172.97         0.00  conventional   \n",
      "5625    57.94     8829.04     5050.91     3778.13         0.00  conventional   \n",
      "5626    35.48     8569.51     5101.64     3467.87         0.00  conventional   \n",
      "5627    62.45     6773.72     3882.02     2891.70         0.00  conventional   \n",
      "5628    42.63     5802.41     2148.20     3654.21         0.00  conventional   \n",
      "5629    77.85     9299.99     5069.66     4230.33         0.00  conventional   \n",
      "5630    74.82     9933.04     5391.35     4541.69         0.00  conventional   \n",
      "5631    33.59     9154.86     5289.78     3851.75        13.33  conventional   \n",
      "5632   136.96     8985.46     4559.36     3672.77       753.33  conventional   \n",
      "5633   121.57    10138.66     4615.19     3646.80      1876.67  conventional   \n",
      "5634    71.46    13412.07     9395.94     3709.46       306.67  conventional   \n",
      "5635   130.14    13908.35     8599.25     4155.77      1153.33  conventional   \n",
      "5636   186.67    12331.34     8301.97     3132.71       896.66  conventional   \n",
      "5637   336.06    13636.13     5918.21     6844.59       873.33  conventional   \n",
      "5638   321.62     8074.87     5552.63     1932.24       590.00  conventional   \n",
      "5639   940.58     9037.23     3250.30     4896.93       890.00  conventional   \n",
      "5640  2546.08    10739.09     4950.13     4788.96      1000.00  conventional   \n",
      "5641   494.51    16008.42     8213.25     5210.17      2585.00  conventional   \n",
      "5642   741.19    14764.17     6549.32     6584.85      1630.00  conventional   \n",
      "5643   129.85    12665.94     4686.34     6874.60      1105.00  conventional   \n",
      "5644   723.07    11747.83     3875.12     6697.71      1175.00  conventional   \n",
      "5645   364.68    12857.87     2704.43     8235.11      1918.33  conventional   \n",
      "5646   100.07    10246.77     2834.14     6342.63      1070.00  conventional   \n",
      "5647   105.74    12727.56     6141.75     6029.14       556.67  conventional   \n",
      "5648   334.01    10798.31     5338.56     5203.08       256.67  conventional   \n",
      "5649   196.39    13279.94     5727.85     7552.09         0.00  conventional   \n",
      "5650   121.07    36806.79     9600.81    27205.98         0.00  conventional   \n",
      "5651    81.89    22819.87    10547.36    12272.51         0.00  conventional   \n",
      "5652    84.45    23292.31     8236.01    15056.30         0.00  conventional   \n",
      "5653   161.28    14005.06     7179.98     6825.08         0.00  conventional   \n",
      "5654    44.28    13907.84     7121.61     6786.23         0.00  conventional   \n",
      "5655    97.26    19977.68     6332.44    13645.24         0.00  conventional   \n",
      "5656    70.17    18842.97     7252.70    11590.27         0.00  conventional   \n",
      "5657   140.57    18267.93     8302.27     9965.66         0.00  conventional   \n",
      "8480    70.00    17804.72    14480.52     3033.09       291.11  conventional   \n",
      "8481    95.62    22353.29    16128.51     5941.45       283.33  conventional   \n",
      "8482    48.00    34138.80    30126.31     3702.49       310.00  conventional   \n",
      "8483    75.00    18393.75    15677.67     2336.08       380.00  conventional   \n",
      "8484    61.00    18011.41    13264.91     4295.39       451.11  conventional   \n",
      "8485   143.53    13244.23    10571.60     2422.63       250.00  conventional   \n",
      "8486    55.59    15841.04    11614.79     4159.58        66.67  conventional   \n",
      "8487    88.78    15453.32    10023.79     5429.53         0.00  conventional   \n",
      "8488    44.00    15734.30    10012.80     5721.50         0.00  conventional   \n",
      "8489    42.63    19364.35     8633.09    10707.93        23.33  conventional   \n",
      "\n",
      "      year  region  \n",
      "5616  2017  Albany  \n",
      "5617  2017  Albany  \n",
      "5618  2017  Albany  \n",
      "5619  2017  Albany  \n",
      "5620  2017  Albany  \n",
      "5621  2017  Albany  \n",
      "5622  2017  Albany  \n",
      "5623  2017  Albany  \n",
      "5624  2017  Albany  \n",
      "5625  2017  Albany  \n",
      "5626  2017  Albany  \n",
      "5627  2017  Albany  \n",
      "5628  2017  Albany  \n",
      "5629  2017  Albany  \n",
      "5630  2017  Albany  \n",
      "5631  2017  Albany  \n",
      "5632  2017  Albany  \n",
      "5633  2017  Albany  \n",
      "5634  2017  Albany  \n",
      "5635  2017  Albany  \n",
      "5636  2017  Albany  \n",
      "5637  2017  Albany  \n",
      "5638  2017  Albany  \n",
      "5639  2017  Albany  \n",
      "5640  2017  Albany  \n",
      "5641  2017  Albany  \n",
      "5642  2017  Albany  \n",
      "5643  2017  Albany  \n",
      "5644  2017  Albany  \n",
      "5645  2017  Albany  \n",
      "5646  2017  Albany  \n",
      "5647  2017  Albany  \n",
      "5648  2017  Albany  \n",
      "5649  2017  Albany  \n",
      "5650  2017  Albany  \n",
      "5651  2017  Albany  \n",
      "5652  2017  Albany  \n",
      "5653  2017  Albany  \n",
      "5654  2017  Albany  \n",
      "5655  2017  Albany  \n",
      "5656  2017  Albany  \n",
      "5657  2017  Albany  \n",
      "8480  2018  Albany  \n",
      "8481  2018  Albany  \n",
      "8482  2018  Albany  \n",
      "8483  2018  Albany  \n",
      "8484  2018  Albany  \n",
      "8485  2018  Albany  \n",
      "8486  2018  Albany  \n",
      "8487  2018  Albany  \n",
      "8488  2018  Albany  \n",
      "8489  2018  Albany  \n"
     ]
    }
   ],
   "source": [
    "def update_charts(region, avocado_type, start_date, end_date):\n",
    "    start=np.datetime64(start_date)\n",
    "    end=np.datetime64(end_date)\n",
    "    r=str(region)\n",
    "    at=str(avocado_type)\n",
    "    filtered_data=avocado_type1[\n",
    "        (avocado_type1['region']==r) &\n",
    "        (avocado_type1['type']==at) &\n",
    "        (avocado_type1['Date']>= start) &\n",
    "        (avocado_type1['Date']<= end)\n",
    "    ]\n",
    "    # filtered_data = avocado_type1.query(\n",
    "    #     \"region == @region and type == @avocado_type\"\n",
    "    #     \" and Date >= @start_date and Date <= @end_date\"\n",
    "    # )\n",
    "    print(filtered_data)\n",
    "\n",
    "\n",
    "update_charts(\"Albany\",\"conventional\",\"2017-03-17\",\"2018-03-17\")\n",
    "# print(filtered_data)"
   ]
  },
  {
   "cell_type": "code",
   "execution_count": 50,
   "id": "6fa308b0",
   "metadata": {},
   "outputs": [
    {
     "data": {
      "application/vnd.plotly.v1+json": {
       "config": {
        "plotlyServerURL": "https://plot.ly"
       },
       "data": [
        {
         "alignmentgroup": "True",
         "hovertemplate": "bagsize=Small Bags<br>yearmonth=%{x}<br>Count=%{y}<extra></extra>",
         "legendgroup": "Small Bags",
         "marker": {
          "color": "#636efa",
          "pattern": {
           "shape": ""
          }
         },
         "name": "Small Bags",
         "offsetgroup": "Small Bags",
         "orientation": "v",
         "showlegend": true,
         "textposition": "auto",
         "type": "bar",
         "x": [
          "2015-01",
          "2015-02",
          "2015-03",
          "2015-04",
          "2015-05",
          "2015-06",
          "2015-07",
          "2015-08",
          "2015-09",
          "2015-10",
          "2015-11",
          "2015-12",
          "2016-01",
          "2016-02",
          "2016-03",
          "2016-04",
          "2016-05",
          "2016-06",
          "2016-07",
          "2016-08",
          "2016-09",
          "2016-10",
          "2016-11",
          "2016-12",
          "2017-01",
          "2017-02",
          "2017-03",
          "2017-04",
          "2017-05",
          "2017-06",
          "2017-07",
          "2017-08",
          "2017-09",
          "2017-10",
          "2017-11",
          "2017-12",
          "2018-01",
          "2018-02",
          "2018-03"
         ],
         "xaxis": "x",
         "y": [
          38977.41,
          38263.95,
          44264.29,
          51987.45,
          107007.23000000001,
          98631.89,
          78118.29000000001,
          52147.26,
          30806.03,
          34185.58,
          38110.92,
          31731.300000000003,
          81045.73999999999,
          53033.6,
          50617.229999999996,
          50835.96,
          93510.81,
          70760.43,
          83630.92,
          57210.66,
          44724.3,
          52837.7,
          37477.14,
          38546.84,
          56502.28,
          43392.7,
          39822.340000000004,
          39417.4,
          26808.97,
          14100.029999999999,
          28515.63,
          32215.37,
          19855.68,
          21252.43,
          30478.42,
          35663.5,
          40284.47,
          69640.49,
          76638.73
         ],
         "yaxis": "y"
        },
        {
         "alignmentgroup": "True",
         "hovertemplate": "bagsize=Large Bags<br>yearmonth=%{x}<br>Count=%{y}<extra></extra>",
         "legendgroup": "Large Bags",
         "marker": {
          "color": "#EF553B",
          "pattern": {
           "shape": ""
          }
         },
         "name": "Large Bags",
         "offsetgroup": "Large Bags",
         "orientation": "v",
         "showlegend": true,
         "textposition": "auto",
         "type": "bar",
         "x": [
          "2015-01",
          "2015-02",
          "2015-03",
          "2015-04",
          "2015-05",
          "2015-06",
          "2015-07",
          "2015-08",
          "2015-09",
          "2015-10",
          "2015-11",
          "2015-12",
          "2016-01",
          "2016-02",
          "2016-03",
          "2016-04",
          "2016-05",
          "2016-06",
          "2016-07",
          "2016-08",
          "2016-09",
          "2016-10",
          "2016-11",
          "2016-12",
          "2017-01",
          "2017-02",
          "2017-03",
          "2017-04",
          "2017-05",
          "2017-06",
          "2017-07",
          "2017-08",
          "2017-09",
          "2017-10",
          "2017-11",
          "2017-12",
          "2018-01",
          "2018-02",
          "2018-03"
         ],
         "xaxis": "x",
         "y": [
          1930.69,
          1373.3400000000001,
          1873.58,
          2822.05,
          2078.16,
          1683.64,
          659.41,
          555.9599999999999,
          1772.57,
          1526.65,
          1293.3799999999999,
          427.64,
          2130.93,
          5621.56,
          1555.88,
          1961.99,
          1044.7,
          1490.1,
          1972.3899999999999,
          1084.78,
          1683.89,
          1405.67,
          1341.98,
          1873,
          643.38,
          1107.53,
          37091.74,
          54585.36,
          45990.29,
          28150.050000000003,
          23413.15,
          17842.53,
          15713.01,
          18022.239999999998,
          20053.97,
          30261,
          26018.54,
          12756.59,
          16966.379999999997
         ],
         "yaxis": "y"
        },
        {
         "alignmentgroup": "True",
         "hovertemplate": "bagsize=XLarge Bags<br>yearmonth=%{x}<br>Count=%{y}<extra></extra>",
         "legendgroup": "XLarge Bags",
         "marker": {
          "color": "#00cc96",
          "pattern": {
           "shape": ""
          }
         },
         "name": "XLarge Bags",
         "offsetgroup": "XLarge Bags",
         "orientation": "v",
         "showlegend": true,
         "textposition": "auto",
         "type": "bar",
         "x": [
          "2015-01",
          "2015-02",
          "2015-03",
          "2015-04",
          "2015-05",
          "2015-06",
          "2015-07",
          "2015-08",
          "2015-09",
          "2015-10",
          "2015-11",
          "2015-12",
          "2016-01",
          "2016-02",
          "2016-03",
          "2016-04",
          "2016-05",
          "2016-06",
          "2016-07",
          "2016-08",
          "2016-09",
          "2016-10",
          "2016-11",
          "2016-12",
          "2017-01",
          "2017-02",
          "2017-03",
          "2017-04",
          "2017-05",
          "2017-06",
          "2017-07",
          "2017-08",
          "2017-09",
          "2017-10",
          "2017-11",
          "2017-12",
          "2018-01",
          "2018-02",
          "2018-03"
         ],
         "xaxis": "x",
         "y": [
          0,
          0,
          0,
          104.17,
          0,
          0,
          33.33,
          0,
          0,
          0,
          0,
          0,
          0,
          0,
          0,
          231.94,
          1203.6100000000001,
          6335,
          10190,
          3527.23,
          105,
          0,
          56.94,
          43.22,
          13.18,
          0,
          0,
          0,
          813.3399999999999,
          5268.33,
          6695,
          3229.99,
          2643.33,
          0,
          0,
          0,
          90,
          1391.1100000000001,
          1454.44
         ],
         "yaxis": "y"
        }
       ],
       "layout": {
        "barmode": "stack",
        "legend": {
         "title": {
          "text": "bagsize"
         },
         "tracegroupgap": 0
        },
        "template": {
         "data": {
          "bar": [
           {
            "error_x": {
             "color": "#2a3f5f"
            },
            "error_y": {
             "color": "#2a3f5f"
            },
            "marker": {
             "line": {
              "color": "#E5ECF6",
              "width": 0.5
             },
             "pattern": {
              "fillmode": "overlay",
              "size": 10,
              "solidity": 0.2
             }
            },
            "type": "bar"
           }
          ],
          "barpolar": [
           {
            "marker": {
             "line": {
              "color": "#E5ECF6",
              "width": 0.5
             },
             "pattern": {
              "fillmode": "overlay",
              "size": 10,
              "solidity": 0.2
             }
            },
            "type": "barpolar"
           }
          ],
          "carpet": [
           {
            "aaxis": {
             "endlinecolor": "#2a3f5f",
             "gridcolor": "white",
             "linecolor": "white",
             "minorgridcolor": "white",
             "startlinecolor": "#2a3f5f"
            },
            "baxis": {
             "endlinecolor": "#2a3f5f",
             "gridcolor": "white",
             "linecolor": "white",
             "minorgridcolor": "white",
             "startlinecolor": "#2a3f5f"
            },
            "type": "carpet"
           }
          ],
          "choropleth": [
           {
            "colorbar": {
             "outlinewidth": 0,
             "ticks": ""
            },
            "type": "choropleth"
           }
          ],
          "contour": [
           {
            "colorbar": {
             "outlinewidth": 0,
             "ticks": ""
            },
            "colorscale": [
             [
              0,
              "#0d0887"
             ],
             [
              0.1111111111111111,
              "#46039f"
             ],
             [
              0.2222222222222222,
              "#7201a8"
             ],
             [
              0.3333333333333333,
              "#9c179e"
             ],
             [
              0.4444444444444444,
              "#bd3786"
             ],
             [
              0.5555555555555556,
              "#d8576b"
             ],
             [
              0.6666666666666666,
              "#ed7953"
             ],
             [
              0.7777777777777778,
              "#fb9f3a"
             ],
             [
              0.8888888888888888,
              "#fdca26"
             ],
             [
              1,
              "#f0f921"
             ]
            ],
            "type": "contour"
           }
          ],
          "contourcarpet": [
           {
            "colorbar": {
             "outlinewidth": 0,
             "ticks": ""
            },
            "type": "contourcarpet"
           }
          ],
          "heatmap": [
           {
            "colorbar": {
             "outlinewidth": 0,
             "ticks": ""
            },
            "colorscale": [
             [
              0,
              "#0d0887"
             ],
             [
              0.1111111111111111,
              "#46039f"
             ],
             [
              0.2222222222222222,
              "#7201a8"
             ],
             [
              0.3333333333333333,
              "#9c179e"
             ],
             [
              0.4444444444444444,
              "#bd3786"
             ],
             [
              0.5555555555555556,
              "#d8576b"
             ],
             [
              0.6666666666666666,
              "#ed7953"
             ],
             [
              0.7777777777777778,
              "#fb9f3a"
             ],
             [
              0.8888888888888888,
              "#fdca26"
             ],
             [
              1,
              "#f0f921"
             ]
            ],
            "type": "heatmap"
           }
          ],
          "heatmapgl": [
           {
            "colorbar": {
             "outlinewidth": 0,
             "ticks": ""
            },
            "colorscale": [
             [
              0,
              "#0d0887"
             ],
             [
              0.1111111111111111,
              "#46039f"
             ],
             [
              0.2222222222222222,
              "#7201a8"
             ],
             [
              0.3333333333333333,
              "#9c179e"
             ],
             [
              0.4444444444444444,
              "#bd3786"
             ],
             [
              0.5555555555555556,
              "#d8576b"
             ],
             [
              0.6666666666666666,
              "#ed7953"
             ],
             [
              0.7777777777777778,
              "#fb9f3a"
             ],
             [
              0.8888888888888888,
              "#fdca26"
             ],
             [
              1,
              "#f0f921"
             ]
            ],
            "type": "heatmapgl"
           }
          ],
          "histogram": [
           {
            "marker": {
             "pattern": {
              "fillmode": "overlay",
              "size": 10,
              "solidity": 0.2
             }
            },
            "type": "histogram"
           }
          ],
          "histogram2d": [
           {
            "colorbar": {
             "outlinewidth": 0,
             "ticks": ""
            },
            "colorscale": [
             [
              0,
              "#0d0887"
             ],
             [
              0.1111111111111111,
              "#46039f"
             ],
             [
              0.2222222222222222,
              "#7201a8"
             ],
             [
              0.3333333333333333,
              "#9c179e"
             ],
             [
              0.4444444444444444,
              "#bd3786"
             ],
             [
              0.5555555555555556,
              "#d8576b"
             ],
             [
              0.6666666666666666,
              "#ed7953"
             ],
             [
              0.7777777777777778,
              "#fb9f3a"
             ],
             [
              0.8888888888888888,
              "#fdca26"
             ],
             [
              1,
              "#f0f921"
             ]
            ],
            "type": "histogram2d"
           }
          ],
          "histogram2dcontour": [
           {
            "colorbar": {
             "outlinewidth": 0,
             "ticks": ""
            },
            "colorscale": [
             [
              0,
              "#0d0887"
             ],
             [
              0.1111111111111111,
              "#46039f"
             ],
             [
              0.2222222222222222,
              "#7201a8"
             ],
             [
              0.3333333333333333,
              "#9c179e"
             ],
             [
              0.4444444444444444,
              "#bd3786"
             ],
             [
              0.5555555555555556,
              "#d8576b"
             ],
             [
              0.6666666666666666,
              "#ed7953"
             ],
             [
              0.7777777777777778,
              "#fb9f3a"
             ],
             [
              0.8888888888888888,
              "#fdca26"
             ],
             [
              1,
              "#f0f921"
             ]
            ],
            "type": "histogram2dcontour"
           }
          ],
          "mesh3d": [
           {
            "colorbar": {
             "outlinewidth": 0,
             "ticks": ""
            },
            "type": "mesh3d"
           }
          ],
          "parcoords": [
           {
            "line": {
             "colorbar": {
              "outlinewidth": 0,
              "ticks": ""
             }
            },
            "type": "parcoords"
           }
          ],
          "pie": [
           {
            "automargin": true,
            "type": "pie"
           }
          ],
          "scatter": [
           {
            "fillpattern": {
             "fillmode": "overlay",
             "size": 10,
             "solidity": 0.2
            },
            "type": "scatter"
           }
          ],
          "scatter3d": [
           {
            "line": {
             "colorbar": {
              "outlinewidth": 0,
              "ticks": ""
             }
            },
            "marker": {
             "colorbar": {
              "outlinewidth": 0,
              "ticks": ""
             }
            },
            "type": "scatter3d"
           }
          ],
          "scattercarpet": [
           {
            "marker": {
             "colorbar": {
              "outlinewidth": 0,
              "ticks": ""
             }
            },
            "type": "scattercarpet"
           }
          ],
          "scattergeo": [
           {
            "marker": {
             "colorbar": {
              "outlinewidth": 0,
              "ticks": ""
             }
            },
            "type": "scattergeo"
           }
          ],
          "scattergl": [
           {
            "marker": {
             "colorbar": {
              "outlinewidth": 0,
              "ticks": ""
             }
            },
            "type": "scattergl"
           }
          ],
          "scattermapbox": [
           {
            "marker": {
             "colorbar": {
              "outlinewidth": 0,
              "ticks": ""
             }
            },
            "type": "scattermapbox"
           }
          ],
          "scatterpolar": [
           {
            "marker": {
             "colorbar": {
              "outlinewidth": 0,
              "ticks": ""
             }
            },
            "type": "scatterpolar"
           }
          ],
          "scatterpolargl": [
           {
            "marker": {
             "colorbar": {
              "outlinewidth": 0,
              "ticks": ""
             }
            },
            "type": "scatterpolargl"
           }
          ],
          "scatterternary": [
           {
            "marker": {
             "colorbar": {
              "outlinewidth": 0,
              "ticks": ""
             }
            },
            "type": "scatterternary"
           }
          ],
          "surface": [
           {
            "colorbar": {
             "outlinewidth": 0,
             "ticks": ""
            },
            "colorscale": [
             [
              0,
              "#0d0887"
             ],
             [
              0.1111111111111111,
              "#46039f"
             ],
             [
              0.2222222222222222,
              "#7201a8"
             ],
             [
              0.3333333333333333,
              "#9c179e"
             ],
             [
              0.4444444444444444,
              "#bd3786"
             ],
             [
              0.5555555555555556,
              "#d8576b"
             ],
             [
              0.6666666666666666,
              "#ed7953"
             ],
             [
              0.7777777777777778,
              "#fb9f3a"
             ],
             [
              0.8888888888888888,
              "#fdca26"
             ],
             [
              1,
              "#f0f921"
             ]
            ],
            "type": "surface"
           }
          ],
          "table": [
           {
            "cells": {
             "fill": {
              "color": "#EBF0F8"
             },
             "line": {
              "color": "white"
             }
            },
            "header": {
             "fill": {
              "color": "#C8D4E3"
             },
             "line": {
              "color": "white"
             }
            },
            "type": "table"
           }
          ]
         },
         "layout": {
          "annotationdefaults": {
           "arrowcolor": "#2a3f5f",
           "arrowhead": 0,
           "arrowwidth": 1
          },
          "autotypenumbers": "strict",
          "coloraxis": {
           "colorbar": {
            "outlinewidth": 0,
            "ticks": ""
           }
          },
          "colorscale": {
           "diverging": [
            [
             0,
             "#8e0152"
            ],
            [
             0.1,
             "#c51b7d"
            ],
            [
             0.2,
             "#de77ae"
            ],
            [
             0.3,
             "#f1b6da"
            ],
            [
             0.4,
             "#fde0ef"
            ],
            [
             0.5,
             "#f7f7f7"
            ],
            [
             0.6,
             "#e6f5d0"
            ],
            [
             0.7,
             "#b8e186"
            ],
            [
             0.8,
             "#7fbc41"
            ],
            [
             0.9,
             "#4d9221"
            ],
            [
             1,
             "#276419"
            ]
           ],
           "sequential": [
            [
             0,
             "#0d0887"
            ],
            [
             0.1111111111111111,
             "#46039f"
            ],
            [
             0.2222222222222222,
             "#7201a8"
            ],
            [
             0.3333333333333333,
             "#9c179e"
            ],
            [
             0.4444444444444444,
             "#bd3786"
            ],
            [
             0.5555555555555556,
             "#d8576b"
            ],
            [
             0.6666666666666666,
             "#ed7953"
            ],
            [
             0.7777777777777778,
             "#fb9f3a"
            ],
            [
             0.8888888888888888,
             "#fdca26"
            ],
            [
             1,
             "#f0f921"
            ]
           ],
           "sequentialminus": [
            [
             0,
             "#0d0887"
            ],
            [
             0.1111111111111111,
             "#46039f"
            ],
            [
             0.2222222222222222,
             "#7201a8"
            ],
            [
             0.3333333333333333,
             "#9c179e"
            ],
            [
             0.4444444444444444,
             "#bd3786"
            ],
            [
             0.5555555555555556,
             "#d8576b"
            ],
            [
             0.6666666666666666,
             "#ed7953"
            ],
            [
             0.7777777777777778,
             "#fb9f3a"
            ],
            [
             0.8888888888888888,
             "#fdca26"
            ],
            [
             1,
             "#f0f921"
            ]
           ]
          },
          "colorway": [
           "#636efa",
           "#EF553B",
           "#00cc96",
           "#ab63fa",
           "#FFA15A",
           "#19d3f3",
           "#FF6692",
           "#B6E880",
           "#FF97FF",
           "#FECB52"
          ],
          "font": {
           "color": "#2a3f5f"
          },
          "geo": {
           "bgcolor": "white",
           "lakecolor": "white",
           "landcolor": "#E5ECF6",
           "showlakes": true,
           "showland": true,
           "subunitcolor": "white"
          },
          "hoverlabel": {
           "align": "left"
          },
          "hovermode": "closest",
          "mapbox": {
           "style": "light"
          },
          "paper_bgcolor": "white",
          "plot_bgcolor": "#E5ECF6",
          "polar": {
           "angularaxis": {
            "gridcolor": "white",
            "linecolor": "white",
            "ticks": ""
           },
           "bgcolor": "#E5ECF6",
           "radialaxis": {
            "gridcolor": "white",
            "linecolor": "white",
            "ticks": ""
           }
          },
          "scene": {
           "xaxis": {
            "backgroundcolor": "#E5ECF6",
            "gridcolor": "white",
            "gridwidth": 2,
            "linecolor": "white",
            "showbackground": true,
            "ticks": "",
            "zerolinecolor": "white"
           },
           "yaxis": {
            "backgroundcolor": "#E5ECF6",
            "gridcolor": "white",
            "gridwidth": 2,
            "linecolor": "white",
            "showbackground": true,
            "ticks": "",
            "zerolinecolor": "white"
           },
           "zaxis": {
            "backgroundcolor": "#E5ECF6",
            "gridcolor": "white",
            "gridwidth": 2,
            "linecolor": "white",
            "showbackground": true,
            "ticks": "",
            "zerolinecolor": "white"
           }
          },
          "shapedefaults": {
           "line": {
            "color": "#2a3f5f"
           }
          },
          "ternary": {
           "aaxis": {
            "gridcolor": "white",
            "linecolor": "white",
            "ticks": ""
           },
           "baxis": {
            "gridcolor": "white",
            "linecolor": "white",
            "ticks": ""
           },
           "bgcolor": "#E5ECF6",
           "caxis": {
            "gridcolor": "white",
            "linecolor": "white",
            "ticks": ""
           }
          },
          "title": {
           "x": 0.05
          },
          "xaxis": {
           "automargin": true,
           "gridcolor": "white",
           "linecolor": "white",
           "ticks": "",
           "title": {
            "standoff": 15
           },
           "zerolinecolor": "white",
           "zerolinewidth": 2
          },
          "yaxis": {
           "automargin": true,
           "gridcolor": "white",
           "linecolor": "white",
           "ticks": "",
           "title": {
            "standoff": 15
           },
           "zerolinecolor": "white",
           "zerolinewidth": 2
          }
         }
        },
        "title": {
         "text": "variation in bags according to month"
        },
        "xaxis": {
         "anchor": "y",
         "domain": [
          0,
          1
         ],
         "title": {
          "text": "yearmonth"
         }
        },
        "yaxis": {
         "anchor": "x",
         "domain": [
          0,
          1
         ],
         "title": {
          "text": "Count"
         }
        }
       }
      },
      "text/html": [
       "<div>                            <div id=\"e1ed7227-22d9-4c6b-aa0b-e77f312379c1\" class=\"plotly-graph-div\" style=\"height:525px; width:100%;\"></div>            <script type=\"text/javascript\">                require([\"plotly\"], function(Plotly) {                    window.PLOTLYENV=window.PLOTLYENV || {};                                    if (document.getElementById(\"e1ed7227-22d9-4c6b-aa0b-e77f312379c1\")) {                    Plotly.newPlot(                        \"e1ed7227-22d9-4c6b-aa0b-e77f312379c1\",                        [{\"alignmentgroup\":\"True\",\"hovertemplate\":\"bagsize=Small Bags\\u003cbr\\u003eyearmonth=%{x}\\u003cbr\\u003eCount=%{y}\\u003cextra\\u003e\\u003c\\u002fextra\\u003e\",\"legendgroup\":\"Small Bags\",\"marker\":{\"color\":\"#636efa\",\"pattern\":{\"shape\":\"\"}},\"name\":\"Small Bags\",\"offsetgroup\":\"Small Bags\",\"orientation\":\"v\",\"showlegend\":true,\"textposition\":\"auto\",\"x\":[\"2015-01\",\"2015-02\",\"2015-03\",\"2015-04\",\"2015-05\",\"2015-06\",\"2015-07\",\"2015-08\",\"2015-09\",\"2015-10\",\"2015-11\",\"2015-12\",\"2016-01\",\"2016-02\",\"2016-03\",\"2016-04\",\"2016-05\",\"2016-06\",\"2016-07\",\"2016-08\",\"2016-09\",\"2016-10\",\"2016-11\",\"2016-12\",\"2017-01\",\"2017-02\",\"2017-03\",\"2017-04\",\"2017-05\",\"2017-06\",\"2017-07\",\"2017-08\",\"2017-09\",\"2017-10\",\"2017-11\",\"2017-12\",\"2018-01\",\"2018-02\",\"2018-03\"],\"xaxis\":\"x\",\"y\":[38977.41,38263.95,44264.29,51987.45,107007.23000000001,98631.89,78118.29000000001,52147.26,30806.03,34185.58,38110.92,31731.300000000003,81045.73999999999,53033.6,50617.229999999996,50835.96,93510.81,70760.43,83630.92,57210.66,44724.3,52837.7,37477.14,38546.84,56502.28,43392.7,39822.340000000004,39417.4,26808.97,14100.029999999999,28515.63,32215.37,19855.68,21252.43,30478.42,35663.5,40284.47,69640.49,76638.73],\"yaxis\":\"y\",\"type\":\"bar\"},{\"alignmentgroup\":\"True\",\"hovertemplate\":\"bagsize=Large Bags\\u003cbr\\u003eyearmonth=%{x}\\u003cbr\\u003eCount=%{y}\\u003cextra\\u003e\\u003c\\u002fextra\\u003e\",\"legendgroup\":\"Large Bags\",\"marker\":{\"color\":\"#EF553B\",\"pattern\":{\"shape\":\"\"}},\"name\":\"Large Bags\",\"offsetgroup\":\"Large Bags\",\"orientation\":\"v\",\"showlegend\":true,\"textposition\":\"auto\",\"x\":[\"2015-01\",\"2015-02\",\"2015-03\",\"2015-04\",\"2015-05\",\"2015-06\",\"2015-07\",\"2015-08\",\"2015-09\",\"2015-10\",\"2015-11\",\"2015-12\",\"2016-01\",\"2016-02\",\"2016-03\",\"2016-04\",\"2016-05\",\"2016-06\",\"2016-07\",\"2016-08\",\"2016-09\",\"2016-10\",\"2016-11\",\"2016-12\",\"2017-01\",\"2017-02\",\"2017-03\",\"2017-04\",\"2017-05\",\"2017-06\",\"2017-07\",\"2017-08\",\"2017-09\",\"2017-10\",\"2017-11\",\"2017-12\",\"2018-01\",\"2018-02\",\"2018-03\"],\"xaxis\":\"x\",\"y\":[1930.69,1373.3400000000001,1873.58,2822.05,2078.16,1683.64,659.41,555.9599999999999,1772.57,1526.65,1293.3799999999999,427.64,2130.93,5621.56,1555.88,1961.99,1044.7,1490.1,1972.3899999999999,1084.78,1683.89,1405.67,1341.98,1873.0,643.38,1107.53,37091.74,54585.36,45990.29,28150.050000000003,23413.15,17842.53,15713.01,18022.239999999998,20053.97,30261.0,26018.54,12756.59,16966.379999999997],\"yaxis\":\"y\",\"type\":\"bar\"},{\"alignmentgroup\":\"True\",\"hovertemplate\":\"bagsize=XLarge Bags\\u003cbr\\u003eyearmonth=%{x}\\u003cbr\\u003eCount=%{y}\\u003cextra\\u003e\\u003c\\u002fextra\\u003e\",\"legendgroup\":\"XLarge Bags\",\"marker\":{\"color\":\"#00cc96\",\"pattern\":{\"shape\":\"\"}},\"name\":\"XLarge Bags\",\"offsetgroup\":\"XLarge Bags\",\"orientation\":\"v\",\"showlegend\":true,\"textposition\":\"auto\",\"x\":[\"2015-01\",\"2015-02\",\"2015-03\",\"2015-04\",\"2015-05\",\"2015-06\",\"2015-07\",\"2015-08\",\"2015-09\",\"2015-10\",\"2015-11\",\"2015-12\",\"2016-01\",\"2016-02\",\"2016-03\",\"2016-04\",\"2016-05\",\"2016-06\",\"2016-07\",\"2016-08\",\"2016-09\",\"2016-10\",\"2016-11\",\"2016-12\",\"2017-01\",\"2017-02\",\"2017-03\",\"2017-04\",\"2017-05\",\"2017-06\",\"2017-07\",\"2017-08\",\"2017-09\",\"2017-10\",\"2017-11\",\"2017-12\",\"2018-01\",\"2018-02\",\"2018-03\"],\"xaxis\":\"x\",\"y\":[0.0,0.0,0.0,104.17,0.0,0.0,33.33,0.0,0.0,0.0,0.0,0.0,0.0,0.0,0.0,231.94,1203.6100000000001,6335.0,10190.0,3527.23,105.0,0.0,56.94,43.22,13.18,0.0,0.0,0.0,813.3399999999999,5268.33,6695.0,3229.99,2643.33,0.0,0.0,0.0,90.0,1391.1100000000001,1454.44],\"yaxis\":\"y\",\"type\":\"bar\"}],                        {\"template\":{\"data\":{\"histogram2dcontour\":[{\"type\":\"histogram2dcontour\",\"colorbar\":{\"outlinewidth\":0,\"ticks\":\"\"},\"colorscale\":[[0.0,\"#0d0887\"],[0.1111111111111111,\"#46039f\"],[0.2222222222222222,\"#7201a8\"],[0.3333333333333333,\"#9c179e\"],[0.4444444444444444,\"#bd3786\"],[0.5555555555555556,\"#d8576b\"],[0.6666666666666666,\"#ed7953\"],[0.7777777777777778,\"#fb9f3a\"],[0.8888888888888888,\"#fdca26\"],[1.0,\"#f0f921\"]]}],\"choropleth\":[{\"type\":\"choropleth\",\"colorbar\":{\"outlinewidth\":0,\"ticks\":\"\"}}],\"histogram2d\":[{\"type\":\"histogram2d\",\"colorbar\":{\"outlinewidth\":0,\"ticks\":\"\"},\"colorscale\":[[0.0,\"#0d0887\"],[0.1111111111111111,\"#46039f\"],[0.2222222222222222,\"#7201a8\"],[0.3333333333333333,\"#9c179e\"],[0.4444444444444444,\"#bd3786\"],[0.5555555555555556,\"#d8576b\"],[0.6666666666666666,\"#ed7953\"],[0.7777777777777778,\"#fb9f3a\"],[0.8888888888888888,\"#fdca26\"],[1.0,\"#f0f921\"]]}],\"heatmap\":[{\"type\":\"heatmap\",\"colorbar\":{\"outlinewidth\":0,\"ticks\":\"\"},\"colorscale\":[[0.0,\"#0d0887\"],[0.1111111111111111,\"#46039f\"],[0.2222222222222222,\"#7201a8\"],[0.3333333333333333,\"#9c179e\"],[0.4444444444444444,\"#bd3786\"],[0.5555555555555556,\"#d8576b\"],[0.6666666666666666,\"#ed7953\"],[0.7777777777777778,\"#fb9f3a\"],[0.8888888888888888,\"#fdca26\"],[1.0,\"#f0f921\"]]}],\"heatmapgl\":[{\"type\":\"heatmapgl\",\"colorbar\":{\"outlinewidth\":0,\"ticks\":\"\"},\"colorscale\":[[0.0,\"#0d0887\"],[0.1111111111111111,\"#46039f\"],[0.2222222222222222,\"#7201a8\"],[0.3333333333333333,\"#9c179e\"],[0.4444444444444444,\"#bd3786\"],[0.5555555555555556,\"#d8576b\"],[0.6666666666666666,\"#ed7953\"],[0.7777777777777778,\"#fb9f3a\"],[0.8888888888888888,\"#fdca26\"],[1.0,\"#f0f921\"]]}],\"contourcarpet\":[{\"type\":\"contourcarpet\",\"colorbar\":{\"outlinewidth\":0,\"ticks\":\"\"}}],\"contour\":[{\"type\":\"contour\",\"colorbar\":{\"outlinewidth\":0,\"ticks\":\"\"},\"colorscale\":[[0.0,\"#0d0887\"],[0.1111111111111111,\"#46039f\"],[0.2222222222222222,\"#7201a8\"],[0.3333333333333333,\"#9c179e\"],[0.4444444444444444,\"#bd3786\"],[0.5555555555555556,\"#d8576b\"],[0.6666666666666666,\"#ed7953\"],[0.7777777777777778,\"#fb9f3a\"],[0.8888888888888888,\"#fdca26\"],[1.0,\"#f0f921\"]]}],\"surface\":[{\"type\":\"surface\",\"colorbar\":{\"outlinewidth\":0,\"ticks\":\"\"},\"colorscale\":[[0.0,\"#0d0887\"],[0.1111111111111111,\"#46039f\"],[0.2222222222222222,\"#7201a8\"],[0.3333333333333333,\"#9c179e\"],[0.4444444444444444,\"#bd3786\"],[0.5555555555555556,\"#d8576b\"],[0.6666666666666666,\"#ed7953\"],[0.7777777777777778,\"#fb9f3a\"],[0.8888888888888888,\"#fdca26\"],[1.0,\"#f0f921\"]]}],\"mesh3d\":[{\"type\":\"mesh3d\",\"colorbar\":{\"outlinewidth\":0,\"ticks\":\"\"}}],\"scatter\":[{\"fillpattern\":{\"fillmode\":\"overlay\",\"size\":10,\"solidity\":0.2},\"type\":\"scatter\"}],\"parcoords\":[{\"type\":\"parcoords\",\"line\":{\"colorbar\":{\"outlinewidth\":0,\"ticks\":\"\"}}}],\"scatterpolargl\":[{\"type\":\"scatterpolargl\",\"marker\":{\"colorbar\":{\"outlinewidth\":0,\"ticks\":\"\"}}}],\"bar\":[{\"error_x\":{\"color\":\"#2a3f5f\"},\"error_y\":{\"color\":\"#2a3f5f\"},\"marker\":{\"line\":{\"color\":\"#E5ECF6\",\"width\":0.5},\"pattern\":{\"fillmode\":\"overlay\",\"size\":10,\"solidity\":0.2}},\"type\":\"bar\"}],\"scattergeo\":[{\"type\":\"scattergeo\",\"marker\":{\"colorbar\":{\"outlinewidth\":0,\"ticks\":\"\"}}}],\"scatterpolar\":[{\"type\":\"scatterpolar\",\"marker\":{\"colorbar\":{\"outlinewidth\":0,\"ticks\":\"\"}}}],\"histogram\":[{\"marker\":{\"pattern\":{\"fillmode\":\"overlay\",\"size\":10,\"solidity\":0.2}},\"type\":\"histogram\"}],\"scattergl\":[{\"type\":\"scattergl\",\"marker\":{\"colorbar\":{\"outlinewidth\":0,\"ticks\":\"\"}}}],\"scatter3d\":[{\"type\":\"scatter3d\",\"line\":{\"colorbar\":{\"outlinewidth\":0,\"ticks\":\"\"}},\"marker\":{\"colorbar\":{\"outlinewidth\":0,\"ticks\":\"\"}}}],\"scattermapbox\":[{\"type\":\"scattermapbox\",\"marker\":{\"colorbar\":{\"outlinewidth\":0,\"ticks\":\"\"}}}],\"scatterternary\":[{\"type\":\"scatterternary\",\"marker\":{\"colorbar\":{\"outlinewidth\":0,\"ticks\":\"\"}}}],\"scattercarpet\":[{\"type\":\"scattercarpet\",\"marker\":{\"colorbar\":{\"outlinewidth\":0,\"ticks\":\"\"}}}],\"carpet\":[{\"aaxis\":{\"endlinecolor\":\"#2a3f5f\",\"gridcolor\":\"white\",\"linecolor\":\"white\",\"minorgridcolor\":\"white\",\"startlinecolor\":\"#2a3f5f\"},\"baxis\":{\"endlinecolor\":\"#2a3f5f\",\"gridcolor\":\"white\",\"linecolor\":\"white\",\"minorgridcolor\":\"white\",\"startlinecolor\":\"#2a3f5f\"},\"type\":\"carpet\"}],\"table\":[{\"cells\":{\"fill\":{\"color\":\"#EBF0F8\"},\"line\":{\"color\":\"white\"}},\"header\":{\"fill\":{\"color\":\"#C8D4E3\"},\"line\":{\"color\":\"white\"}},\"type\":\"table\"}],\"barpolar\":[{\"marker\":{\"line\":{\"color\":\"#E5ECF6\",\"width\":0.5},\"pattern\":{\"fillmode\":\"overlay\",\"size\":10,\"solidity\":0.2}},\"type\":\"barpolar\"}],\"pie\":[{\"automargin\":true,\"type\":\"pie\"}]},\"layout\":{\"autotypenumbers\":\"strict\",\"colorway\":[\"#636efa\",\"#EF553B\",\"#00cc96\",\"#ab63fa\",\"#FFA15A\",\"#19d3f3\",\"#FF6692\",\"#B6E880\",\"#FF97FF\",\"#FECB52\"],\"font\":{\"color\":\"#2a3f5f\"},\"hovermode\":\"closest\",\"hoverlabel\":{\"align\":\"left\"},\"paper_bgcolor\":\"white\",\"plot_bgcolor\":\"#E5ECF6\",\"polar\":{\"bgcolor\":\"#E5ECF6\",\"angularaxis\":{\"gridcolor\":\"white\",\"linecolor\":\"white\",\"ticks\":\"\"},\"radialaxis\":{\"gridcolor\":\"white\",\"linecolor\":\"white\",\"ticks\":\"\"}},\"ternary\":{\"bgcolor\":\"#E5ECF6\",\"aaxis\":{\"gridcolor\":\"white\",\"linecolor\":\"white\",\"ticks\":\"\"},\"baxis\":{\"gridcolor\":\"white\",\"linecolor\":\"white\",\"ticks\":\"\"},\"caxis\":{\"gridcolor\":\"white\",\"linecolor\":\"white\",\"ticks\":\"\"}},\"coloraxis\":{\"colorbar\":{\"outlinewidth\":0,\"ticks\":\"\"}},\"colorscale\":{\"sequential\":[[0.0,\"#0d0887\"],[0.1111111111111111,\"#46039f\"],[0.2222222222222222,\"#7201a8\"],[0.3333333333333333,\"#9c179e\"],[0.4444444444444444,\"#bd3786\"],[0.5555555555555556,\"#d8576b\"],[0.6666666666666666,\"#ed7953\"],[0.7777777777777778,\"#fb9f3a\"],[0.8888888888888888,\"#fdca26\"],[1.0,\"#f0f921\"]],\"sequentialminus\":[[0.0,\"#0d0887\"],[0.1111111111111111,\"#46039f\"],[0.2222222222222222,\"#7201a8\"],[0.3333333333333333,\"#9c179e\"],[0.4444444444444444,\"#bd3786\"],[0.5555555555555556,\"#d8576b\"],[0.6666666666666666,\"#ed7953\"],[0.7777777777777778,\"#fb9f3a\"],[0.8888888888888888,\"#fdca26\"],[1.0,\"#f0f921\"]],\"diverging\":[[0,\"#8e0152\"],[0.1,\"#c51b7d\"],[0.2,\"#de77ae\"],[0.3,\"#f1b6da\"],[0.4,\"#fde0ef\"],[0.5,\"#f7f7f7\"],[0.6,\"#e6f5d0\"],[0.7,\"#b8e186\"],[0.8,\"#7fbc41\"],[0.9,\"#4d9221\"],[1,\"#276419\"]]},\"xaxis\":{\"gridcolor\":\"white\",\"linecolor\":\"white\",\"ticks\":\"\",\"title\":{\"standoff\":15},\"zerolinecolor\":\"white\",\"automargin\":true,\"zerolinewidth\":2},\"yaxis\":{\"gridcolor\":\"white\",\"linecolor\":\"white\",\"ticks\":\"\",\"title\":{\"standoff\":15},\"zerolinecolor\":\"white\",\"automargin\":true,\"zerolinewidth\":2},\"scene\":{\"xaxis\":{\"backgroundcolor\":\"#E5ECF6\",\"gridcolor\":\"white\",\"linecolor\":\"white\",\"showbackground\":true,\"ticks\":\"\",\"zerolinecolor\":\"white\",\"gridwidth\":2},\"yaxis\":{\"backgroundcolor\":\"#E5ECF6\",\"gridcolor\":\"white\",\"linecolor\":\"white\",\"showbackground\":true,\"ticks\":\"\",\"zerolinecolor\":\"white\",\"gridwidth\":2},\"zaxis\":{\"backgroundcolor\":\"#E5ECF6\",\"gridcolor\":\"white\",\"linecolor\":\"white\",\"showbackground\":true,\"ticks\":\"\",\"zerolinecolor\":\"white\",\"gridwidth\":2}},\"shapedefaults\":{\"line\":{\"color\":\"#2a3f5f\"}},\"annotationdefaults\":{\"arrowcolor\":\"#2a3f5f\",\"arrowhead\":0,\"arrowwidth\":1},\"geo\":{\"bgcolor\":\"white\",\"landcolor\":\"#E5ECF6\",\"subunitcolor\":\"white\",\"showland\":true,\"showlakes\":true,\"lakecolor\":\"white\"},\"title\":{\"x\":0.05},\"mapbox\":{\"style\":\"light\"}}},\"xaxis\":{\"anchor\":\"y\",\"domain\":[0.0,1.0],\"title\":{\"text\":\"yearmonth\"}},\"yaxis\":{\"anchor\":\"x\",\"domain\":[0.0,1.0],\"title\":{\"text\":\"Count\"}},\"legend\":{\"title\":{\"text\":\"bagsize\"},\"tracegroupgap\":0},\"title\":{\"text\":\"variation in bags according to month\"},\"barmode\":\"stack\"},                        {\"responsive\": true}                    ).then(function(){\n",
       "                            \n",
       "var gd = document.getElementById('e1ed7227-22d9-4c6b-aa0b-e77f312379c1');\n",
       "var x = new MutationObserver(function (mutations, observer) {{\n",
       "        var display = window.getComputedStyle(gd).display;\n",
       "        if (!display || display === 'none') {{\n",
       "            console.log([gd, 'removed!']);\n",
       "            Plotly.purge(gd);\n",
       "            observer.disconnect();\n",
       "        }}\n",
       "}});\n",
       "\n",
       "// Listen for the removal of the full notebook cells\n",
       "var notebookContainer = gd.closest('#notebook-container');\n",
       "if (notebookContainer) {{\n",
       "    x.observe(notebookContainer, {childList: true});\n",
       "}}\n",
       "\n",
       "// Listen for the clearing of the current output cell\n",
       "var outputEl = gd.closest('.output');\n",
       "if (outputEl) {{\n",
       "    x.observe(outputEl, {childList: true});\n",
       "}}\n",
       "\n",
       "                        })                };                });            </script>        </div>"
      ]
     },
     "metadata": {},
     "output_type": "display_data"
    }
   ],
   "source": [
    "fig=px.bar(melted_bag_data,x='yearmonth',y='Count',color='bagsize',title=\"variation in bags according to month\",labels={'count':\"bag count\"})\n",
    "fig.update_layout(barmode='stack')"
   ]
  },
  {
   "cell_type": "code",
   "execution_count": 65,
   "id": "1e3304ed",
   "metadata": {},
   "outputs": [],
   "source": [
    "app_1.layout=html.Div(\n",
    "                children=[\n",
    "                    html.H1(children=\"Avocado analytics app 1\"),\n",
    "                    html.P(children=\"This plot will help us visulaize avocado average prices fluctuation with time\"),\n",
    "                    html.Div(\n",
    "                        children=[\n",
    "                            html.Div(\n",
    "                                children=[\n",
    "                                    \n",
    "                                ])\n",
    "                        ])\n",
    "                    dcc.Graph(figure={\n",
    "                        \"data\":[\n",
    "                            {\n",
    "                                \"x\": avocado_type11[\"Date\"],\n",
    "                                \"y\": avocado_type11[\"AveragePrice\"],\n",
    "                                \"type\": \"lines\",\n",
    "                            },\n",
    "                        ],\n",
    "                        \"layout\":{\"title\":\"Average price vs Date\"},\n",
    "                    },\n",
    "                   ),\n",
    "                   dcc.Graph(figure={\n",
    "                       \"data\":[\n",
    "                           {\n",
    "                               \"x\": avocado_type11['Date'],\n",
    "                               \"y\":avocado_type11['Total Volume'],\n",
    "                               \"type\":\"lines\",\n",
    "                           },\n",
    "                       ],\n",
    "                       \"layout\":{\"title\":\"Volume of avocados vs Date\"},\n",
    "                   },\n",
    "                             ),\n",
    "                    html.P(children=\"This plot will help us visulaize purchased avocado bag size monthly\"),\n",
    "                    dcc.Graph(figure=fig)\n",
    "                  \n",
    "                ])\n",
    "\n"
   ]
  },
  {
   "cell_type": "code",
   "execution_count": 68,
   "id": "33d64073",
   "metadata": {},
   "outputs": [
    {
     "data": {
      "text/html": [
       "\n",
       "        <iframe\n",
       "            width=\"100%\"\n",
       "            height=\"650\"\n",
       "            src=\"http://127.0.0.1:8050/\"\n",
       "            frameborder=\"0\"\n",
       "            allowfullscreen\n",
       "            \n",
       "        ></iframe>\n",
       "        "
      ],
      "text/plain": [
       "<IPython.lib.display.IFrame at 0x1657b7f69e0>"
      ]
     },
     "metadata": {},
     "output_type": "display_data"
    }
   ],
   "source": []
  },
  {
   "cell_type": "code",
   "execution_count": null,
   "id": "66230ad7",
   "metadata": {},
   "outputs": [],
   "source": []
  }
 ],
 "metadata": {
  "kernelspec": {
   "display_name": "Python 3.10.4 64-bit",
   "language": "python",
   "name": "python3"
  },
  "language_info": {
   "codemirror_mode": {
    "name": "ipython",
    "version": 3
   },
   "file_extension": ".py",
   "mimetype": "text/x-python",
   "name": "python",
   "nbconvert_exporter": "python",
   "pygments_lexer": "ipython3",
   "version": "3.10.4"
  },
  "vscode": {
   "interpreter": {
    "hash": "26de051ba29f2982a8de78e945f0abaf191376122a1563185a90213a26c5da77"
   }
  }
 },
 "nbformat": 4,
 "nbformat_minor": 5
}
